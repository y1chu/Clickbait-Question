{
 "cells": [
  {
   "attachments": {},
   "cell_type": "markdown",
   "metadata": {},
   "source": [
    "# COGS 108 - User Engagement with Clickbait Youtube Titles"
   ]
  },
  {
   "attachments": {},
   "cell_type": "markdown",
   "metadata": {},
  },
  {
   "attachments": {},
   "cell_type": "markdown",
   "metadata": {},
   "source": [
   ]
  },
  {
   "attachments": {},
   "cell_type": "markdown",
   "metadata": {},
   "source": [
    "# Overview\n",
    "\nFor this project, we investigated the effects of clickbait Youtube titles and its connection to user engagement such as likes, views and comments.\n",
    "After analyzing data containing user engagement from a few months ago to now, we're able to see that higher views have a correlation to more likes and comments.\n",
    "There is also a correlation to higher view counts with titles in all caps, a common clickbait strategy.\n",
    "Therefore, were able to conclude that clickbait Youtube titles do result in higher user engagement.\n"
   ]
  },
  {
   "attachments": {},
   "cell_type": "markdown",
   "metadata": {},
   "source": [
    "# Names"
   ]
  },
  {
   "attachments": {},
   "cell_type": "markdown",
   "metadata": {},
   "source": [
    "- Chia Long Lin\n",
    "- Gabriel Leong\n",
    "- Ingrid Chu\n",
    "- Ryan Pham\n",
    "- Dong Bin Lee"
   ]
  },
  {
   "attachments": {},
   "cell_type": "markdown",
   "metadata": {},
   "source": [
    "<a id='research_question'></a>\n",
    "# Research Question"
   ]
  },
  {
   "attachments": {},
   "cell_type": "markdown",
   "metadata": {},
   "source": [
    "*How does user engagement data like video views, likes, and dislikes connect with clickbaits in YouTube video titles?*"
   ]
  },
  {
   "attachments": {},
   "cell_type": "markdown",
   "metadata": {},
   "source": [
    "<a id='background'></a>\n",
    "\n",
    "## Background & Prior Work"
   ]
  },
  {
   "attachments": {},
   "cell_type": "markdown",
   "metadata": {},
   "source": [
    "\n",
    "The topic of user engagement with clickbait YouTube titles was chosen due to the recent rise in the trend of clickbait titles across the platform. Clickbait titles are designed to grab viewers' attention and entice them to click on the video, often by employing sensational or misleading language [1]. However, despite their prevalence, there is a lack of comprehensive research and supporting evidence on how user engagement, such as video views, likes, and dislikes, is connected to these clickbait titles.\n",
    "\n",
    "According to previous studies [2], the use of clickbait may have an effect on user engagement. This finding is consistent with our own hypothesis for YouTube dataset. By measuring the impact of headlines that are clickbait on YouTube user interaction, we intend to provide a deeper evaluation of current content strategies on the platform.\n",
    "\n",
    "Through a systematic analysis of user engagement data, including views, likes, and dislikes, we can explore patterns and correlations that may exist between the presence of clickbait titles and the resulting engagement metrics.\n",
    "\n",
    "Our project aims to shed light on the relationship between clickbait titles and user engagement metrics on YouTube. Understanding this connection can provide valuable insights into the effectiveness of clickbait as a strategy to attract viewers, as well as its impact on overall user experience.\n",
    "\n",
    "[1]: Zannettou, Chatzis, Papadamou, and Sirivianos. “The Good, the Bad and the Bait: Detecting and Characterizing Clickbait on Youtube” IEEE Security and Privacy Workshops (SPW), 06 Aug. 2018, https://ieeexplore.ieee.org/abstract/document/8424634/authors#authors\n",
    "\n",
    "[2] Jung, Anna-Katharina et al. “Click me…! The influence of clickbait on user engagement in social media and the role of digital nudging.” PloS one vol. 17,6 e0266743. 29 Jun. 2022, doi:10.1371/journal.pone.0266743\n"
   ]
  },
  {
   "attachments": {},
   "cell_type": "markdown",
   "metadata": {},
   "source": [
    "# Hypothesis\n"
   ]
  },
  {
   "attachments": {},
   "cell_type": "markdown",
   "metadata": {},
   "source": [
    "Hypothesis/Predictions: We think that YouTube videos with clickbait titles gain more views, likes, and dislikes than those with non-clickbait titles. This hypothesis stems from the observed trend of sensationalism and its reported impact on user engagement in social media platforms. The appeal of clickbait titles, we presume, lies in their ability to spark curiosity or elicit strong emotional responses, leading to increased interaction with the video."
   ]
  },
  {
   "attachments": {},
   "cell_type": "markdown",
   "metadata": {},
   "source": [
    "# Dataset(s)"
   ]
  },
  {
   "attachments": {},
   "cell_type": "markdown",
   "metadata": {},
   "source": [
    "- Dataset Name: US_youtube_trending_data.csv\n",
    "- Link to the dataset: https://www.kaggle.com/datasets/rsrishav/youtube-trending-video-dataset?resource=download\n",
    "- Number of observations: (201189, 16) (rows, columns)\n",
    "\n",
    "This dataset aggregates data of YouTube videos from several months ago to now. It records the videos' titles, likes, dislikes, comments, and more. Additionally, the link provides a way to map categoryId from the dataset to the actual category name (e.g. Movies)."
   ]
  },
  {
   "attachments": {},
   "cell_type": "markdown",
   "metadata": {},
   "source": [
    "# Setup"
   ]
  },
  {
   "cell_type": "code",
   "execution_count": 7,
   "metadata": {},
   "outputs": [],
   "source": [
    "# import pandas and numpy\n",
    "import pandas as pd\n",
    "import numpy as np \n",
    "\n",
    "# import seaborn\n",
    "import seaborn as sns\n",
    "\n",
    "# import matplot lib\n",
    "import matplotlib as mpl\n",
    "import matplotlib.pyplot as plt\n",
    "import matplotlib.style as style"
   ]
  },
  {
   "attachments": {},
   "cell_type": "markdown",
   "metadata": {},
   "source": [
    "# Data Cleaning"
   ]
  },
  {
   "cell_type": "code",
   "execution_count": 8,
   "metadata": {},
   "outputs": [
    {
     "data": {
      "text/html": [
       "<div>\n",
       "<style scoped>\n",
       "    .dataframe tbody tr th:only-of-type {\n",
       "        vertical-align: middle;\n",
       "    }\n",
       "\n",
       "    .dataframe tbody tr th {\n",
       "        vertical-align: top;\n",
       "    }\n",
       "\n",
       "    .dataframe thead th {\n",
       "        text-align: right;\n",
       "    }\n",
       "</style>\n",
       "<table border=\"1\" class=\"dataframe\">\n",
       "  <thead>\n",
       "    <tr style=\"text-align: right;\">\n",
       "      <th></th>\n",
       "      <th>video_id</th>\n",
       "      <th>title</th>\n",
       "      <th>publishedAt</th>\n",
       "      <th>channelId</th>\n",
       "      <th>channelTitle</th>\n",
       "      <th>categoryId</th>\n",
       "      <th>trending_date</th>\n",
       "      <th>tags</th>\n",
       "      <th>view_count</th>\n",
       "      <th>likes</th>\n",
       "      <th>dislikes</th>\n",
       "      <th>comment_count</th>\n",
       "      <th>thumbnail_link</th>\n",
       "      <th>comments_disabled</th>\n",
       "      <th>ratings_disabled</th>\n",
       "      <th>description</th>\n",
       "    </tr>\n",
       "  </thead>\n",
       "  <tbody>\n",
       "    <tr>\n",
       "      <th>0</th>\n",
       "      <td>3C66w5Z0ixs</td>\n",
       "      <td>I ASKED HER TO BE MY GIRLFRIEND...</td>\n",
       "      <td>2020-08-11T19:20:14Z</td>\n",
       "      <td>UCvtRTOMP2TqYqu51xNrqAzg</td>\n",
       "      <td>Brawadis</td>\n",
       "      <td>22</td>\n",
       "      <td>2020-08-12T00:00:00Z</td>\n",
       "      <td>brawadis|prank|basketball|skits|ghost|funny vi...</td>\n",
       "      <td>1514614</td>\n",
       "      <td>156908</td>\n",
       "      <td>5855</td>\n",
       "      <td>35313</td>\n",
       "      <td>https://i.ytimg.com/vi/3C66w5Z0ixs/default.jpg</td>\n",
       "      <td>False</td>\n",
       "      <td>False</td>\n",
       "      <td>SUBSCRIBE to BRAWADIS ▶ http://bit.ly/Subscrib...</td>\n",
       "    </tr>\n",
       "    <tr>\n",
       "      <th>1</th>\n",
       "      <td>M9Pmf9AB4Mo</td>\n",
       "      <td>Apex Legends | Stories from the Outlands – “Th...</td>\n",
       "      <td>2020-08-11T17:00:10Z</td>\n",
       "      <td>UC0ZV6M2THA81QT9hrVWJG3A</td>\n",
       "      <td>Apex Legends</td>\n",
       "      <td>20</td>\n",
       "      <td>2020-08-12T00:00:00Z</td>\n",
       "      <td>Apex Legends|Apex Legends characters|new Apex ...</td>\n",
       "      <td>2381688</td>\n",
       "      <td>146739</td>\n",
       "      <td>2794</td>\n",
       "      <td>16549</td>\n",
       "      <td>https://i.ytimg.com/vi/M9Pmf9AB4Mo/default.jpg</td>\n",
       "      <td>False</td>\n",
       "      <td>False</td>\n",
       "      <td>While running her own modding shop, Ramya Pare...</td>\n",
       "    </tr>\n",
       "    <tr>\n",
       "      <th>2</th>\n",
       "      <td>J78aPJ3VyNs</td>\n",
       "      <td>I left youtube for a month and THIS is what ha...</td>\n",
       "      <td>2020-08-11T16:34:06Z</td>\n",
       "      <td>UCYzPXprvl5Y-Sf0g4vX-m6g</td>\n",
       "      <td>jacksepticeye</td>\n",
       "      <td>24</td>\n",
       "      <td>2020-08-12T00:00:00Z</td>\n",
       "      <td>jacksepticeye|funny|funny meme|memes|jacksepti...</td>\n",
       "      <td>2038853</td>\n",
       "      <td>353787</td>\n",
       "      <td>2628</td>\n",
       "      <td>40221</td>\n",
       "      <td>https://i.ytimg.com/vi/J78aPJ3VyNs/default.jpg</td>\n",
       "      <td>False</td>\n",
       "      <td>False</td>\n",
       "      <td>I left youtube for a month and this is what ha...</td>\n",
       "    </tr>\n",
       "    <tr>\n",
       "      <th>3</th>\n",
       "      <td>kXLn3HkpjaA</td>\n",
       "      <td>XXL 2020 Freshman Class Revealed - Official An...</td>\n",
       "      <td>2020-08-11T16:38:55Z</td>\n",
       "      <td>UCbg_UMjlHJg_19SZckaKajg</td>\n",
       "      <td>XXL</td>\n",
       "      <td>10</td>\n",
       "      <td>2020-08-12T00:00:00Z</td>\n",
       "      <td>xxl freshman|xxl freshmen|2020 xxl freshman|20...</td>\n",
       "      <td>496771</td>\n",
       "      <td>23251</td>\n",
       "      <td>1856</td>\n",
       "      <td>7647</td>\n",
       "      <td>https://i.ytimg.com/vi/kXLn3HkpjaA/default.jpg</td>\n",
       "      <td>False</td>\n",
       "      <td>False</td>\n",
       "      <td>Subscribe to XXL → http://bit.ly/subscribe-xxl...</td>\n",
       "    </tr>\n",
       "    <tr>\n",
       "      <th>4</th>\n",
       "      <td>VIUo6yapDbc</td>\n",
       "      <td>Ultimate DIY Home Movie Theater for The LaBran...</td>\n",
       "      <td>2020-08-11T15:10:05Z</td>\n",
       "      <td>UCDVPcEbVLQgLZX0Rt6jo34A</td>\n",
       "      <td>Mr. Kate</td>\n",
       "      <td>26</td>\n",
       "      <td>2020-08-12T00:00:00Z</td>\n",
       "      <td>The LaBrant Family|DIY|Interior Design|Makeove...</td>\n",
       "      <td>1123889</td>\n",
       "      <td>45802</td>\n",
       "      <td>964</td>\n",
       "      <td>2196</td>\n",
       "      <td>https://i.ytimg.com/vi/VIUo6yapDbc/default.jpg</td>\n",
       "      <td>False</td>\n",
       "      <td>False</td>\n",
       "      <td>Transforming The LaBrant Family's empty white ...</td>\n",
       "    </tr>\n",
       "  </tbody>\n",
       "</table>\n",
       "</div>"
      ],
      "text/plain": [
       "      video_id                                              title  \\\n",
       "0  3C66w5Z0ixs                 I ASKED HER TO BE MY GIRLFRIEND...   \n",
       "1  M9Pmf9AB4Mo  Apex Legends | Stories from the Outlands – “Th...   \n",
       "2  J78aPJ3VyNs  I left youtube for a month and THIS is what ha...   \n",
       "3  kXLn3HkpjaA  XXL 2020 Freshman Class Revealed - Official An...   \n",
       "4  VIUo6yapDbc  Ultimate DIY Home Movie Theater for The LaBran...   \n",
       "\n",
       "            publishedAt                 channelId   channelTitle  categoryId  \\\n",
       "0  2020-08-11T19:20:14Z  UCvtRTOMP2TqYqu51xNrqAzg       Brawadis          22   \n",
       "1  2020-08-11T17:00:10Z  UC0ZV6M2THA81QT9hrVWJG3A   Apex Legends          20   \n",
       "2  2020-08-11T16:34:06Z  UCYzPXprvl5Y-Sf0g4vX-m6g  jacksepticeye          24   \n",
       "3  2020-08-11T16:38:55Z  UCbg_UMjlHJg_19SZckaKajg            XXL          10   \n",
       "4  2020-08-11T15:10:05Z  UCDVPcEbVLQgLZX0Rt6jo34A       Mr. Kate          26   \n",
       "\n",
       "          trending_date                                               tags  \\\n",
       "0  2020-08-12T00:00:00Z  brawadis|prank|basketball|skits|ghost|funny vi...   \n",
       "1  2020-08-12T00:00:00Z  Apex Legends|Apex Legends characters|new Apex ...   \n",
       "2  2020-08-12T00:00:00Z  jacksepticeye|funny|funny meme|memes|jacksepti...   \n",
       "3  2020-08-12T00:00:00Z  xxl freshman|xxl freshmen|2020 xxl freshman|20...   \n",
       "4  2020-08-12T00:00:00Z  The LaBrant Family|DIY|Interior Design|Makeove...   \n",
       "\n",
       "   view_count   likes  dislikes  comment_count  \\\n",
       "0     1514614  156908      5855          35313   \n",
       "1     2381688  146739      2794          16549   \n",
       "2     2038853  353787      2628          40221   \n",
       "3      496771   23251      1856           7647   \n",
       "4     1123889   45802       964           2196   \n",
       "\n",
       "                                   thumbnail_link  comments_disabled  \\\n",
       "0  https://i.ytimg.com/vi/3C66w5Z0ixs/default.jpg              False   \n",
       "1  https://i.ytimg.com/vi/M9Pmf9AB4Mo/default.jpg              False   \n",
       "2  https://i.ytimg.com/vi/J78aPJ3VyNs/default.jpg              False   \n",
       "3  https://i.ytimg.com/vi/kXLn3HkpjaA/default.jpg              False   \n",
       "4  https://i.ytimg.com/vi/VIUo6yapDbc/default.jpg              False   \n",
       "\n",
       "   ratings_disabled                                        description  \n",
       "0             False  SUBSCRIBE to BRAWADIS ▶ http://bit.ly/Subscrib...  \n",
       "1             False  While running her own modding shop, Ramya Pare...  \n",
       "2             False  I left youtube for a month and this is what ha...  \n",
       "3             False  Subscribe to XXL → http://bit.ly/subscribe-xxl...  \n",
       "4             False  Transforming The LaBrant Family's empty white ...  "
      ]
     },
     "execution_count": 8,
     "metadata": {},
     "output_type": "execute_result"
    }
   ],
   "source": [
    "# Retrieve data and display some rows\n",
    "df = pd.read_csv('./US_youtube_trending_data.csv')\n",
    "df.head()"
   ]
  },
  {
   "attachments": {},
   "cell_type": "markdown",
   "metadata": {},
   "source": [
    "In order to determine how clickbait-prone a YouTube video is, we first have to  retrieve the columns that are most important from the dataset: title, publish date, trending date, view count, likes, dislikes, and comment count. By focusing on these columns, we can easily quantify how clickbait-prone a video is."
   ]
  },
  {
   "cell_type": "code",
   "execution_count": 9,
   "metadata": {},
   "outputs": [
    {
     "data": {
      "text/html": [
       "<div>\n",
       "<style scoped>\n",
       "    .dataframe tbody tr th:only-of-type {\n",
       "        vertical-align: middle;\n",
       "    }\n",
       "\n",
       "    .dataframe tbody tr th {\n",
       "        vertical-align: top;\n",
       "    }\n",
       "\n",
       "    .dataframe thead th {\n",
       "        text-align: right;\n",
       "    }\n",
       "</style>\n",
       "<table border=\"1\" class=\"dataframe\">\n",
       "  <thead>\n",
       "    <tr style=\"text-align: right;\">\n",
       "      <th></th>\n",
       "      <th>title</th>\n",
       "      <th>categoryId</th>\n",
       "      <th>publishedAt</th>\n",
       "      <th>trending_date</th>\n",
       "      <th>view_count</th>\n",
       "      <th>likes</th>\n",
       "      <th>dislikes</th>\n",
       "      <th>comment_count</th>\n",
       "    </tr>\n",
       "  </thead>\n",
       "  <tbody>\n",
       "    <tr>\n",
       "      <th>0</th>\n",
       "      <td>I ASKED HER TO BE MY GIRLFRIEND...</td>\n",
       "      <td>22</td>\n",
       "      <td>2020-08-11T19:20:14Z</td>\n",
       "      <td>2020-08-12T00:00:00Z</td>\n",
       "      <td>1514614</td>\n",
       "      <td>156908</td>\n",
       "      <td>5855</td>\n",
       "      <td>35313</td>\n",
       "    </tr>\n",
       "    <tr>\n",
       "      <th>1</th>\n",
       "      <td>Apex Legends | Stories from the Outlands – “Th...</td>\n",
       "      <td>20</td>\n",
       "      <td>2020-08-11T17:00:10Z</td>\n",
       "      <td>2020-08-12T00:00:00Z</td>\n",
       "      <td>2381688</td>\n",
       "      <td>146739</td>\n",
       "      <td>2794</td>\n",
       "      <td>16549</td>\n",
       "    </tr>\n",
       "    <tr>\n",
       "      <th>2</th>\n",
       "      <td>I left youtube for a month and THIS is what ha...</td>\n",
       "      <td>24</td>\n",
       "      <td>2020-08-11T16:34:06Z</td>\n",
       "      <td>2020-08-12T00:00:00Z</td>\n",
       "      <td>2038853</td>\n",
       "      <td>353787</td>\n",
       "      <td>2628</td>\n",
       "      <td>40221</td>\n",
       "    </tr>\n",
       "    <tr>\n",
       "      <th>3</th>\n",
       "      <td>XXL 2020 Freshman Class Revealed - Official An...</td>\n",
       "      <td>10</td>\n",
       "      <td>2020-08-11T16:38:55Z</td>\n",
       "      <td>2020-08-12T00:00:00Z</td>\n",
       "      <td>496771</td>\n",
       "      <td>23251</td>\n",
       "      <td>1856</td>\n",
       "      <td>7647</td>\n",
       "    </tr>\n",
       "    <tr>\n",
       "      <th>4</th>\n",
       "      <td>Ultimate DIY Home Movie Theater for The LaBran...</td>\n",
       "      <td>26</td>\n",
       "      <td>2020-08-11T15:10:05Z</td>\n",
       "      <td>2020-08-12T00:00:00Z</td>\n",
       "      <td>1123889</td>\n",
       "      <td>45802</td>\n",
       "      <td>964</td>\n",
       "      <td>2196</td>\n",
       "    </tr>\n",
       "  </tbody>\n",
       "</table>\n",
       "</div>"
      ],
      "text/plain": [
       "                                               title  categoryId  \\\n",
       "0                 I ASKED HER TO BE MY GIRLFRIEND...          22   \n",
       "1  Apex Legends | Stories from the Outlands – “Th...          20   \n",
       "2  I left youtube for a month and THIS is what ha...          24   \n",
       "3  XXL 2020 Freshman Class Revealed - Official An...          10   \n",
       "4  Ultimate DIY Home Movie Theater for The LaBran...          26   \n",
       "\n",
       "            publishedAt         trending_date  view_count   likes  dislikes  \\\n",
       "0  2020-08-11T19:20:14Z  2020-08-12T00:00:00Z     1514614  156908      5855   \n",
       "1  2020-08-11T17:00:10Z  2020-08-12T00:00:00Z     2381688  146739      2794   \n",
       "2  2020-08-11T16:34:06Z  2020-08-12T00:00:00Z     2038853  353787      2628   \n",
       "3  2020-08-11T16:38:55Z  2020-08-12T00:00:00Z      496771   23251      1856   \n",
       "4  2020-08-11T15:10:05Z  2020-08-12T00:00:00Z     1123889   45802       964   \n",
       "\n",
       "   comment_count  \n",
       "0          35313  \n",
       "1          16549  \n",
       "2          40221  \n",
       "3           7647  \n",
       "4           2196  "
      ]
     },
     "execution_count": 9,
     "metadata": {},
     "output_type": "execute_result"
    }
   ],
   "source": [
    "# Get the columns we care about\n",
    "df = df[[\"title\", \"categoryId\", \"publishedAt\", \"trending_date\", \"view_count\", \"likes\", \"dislikes\", \"comment_count\"]]\n",
    "\n",
    "# Remove videos with 0 view count\n",
    "df = df.loc[df['view_count'] != 0]\n",
    "\n",
    "df.head()"
   ]
  },
  {
   "attachments": {},
   "cell_type": "markdown",
   "metadata": {},
   "source": [
    "Next, we map the `categoryId` in the dataframe to a `categoryName` given through `US_category_id.json` and merge them together into one dataframe."
   ]
  },
  {
   "cell_type": "code",
   "execution_count": 10,
   "metadata": {},
   "outputs": [
    {
     "data": {
      "text/html": [
       "<div>\n",
       "<style scoped>\n",
       "    .dataframe tbody tr th:only-of-type {\n",
       "        vertical-align: middle;\n",
       "    }\n",
       "\n",
       "    .dataframe tbody tr th {\n",
       "        vertical-align: top;\n",
       "    }\n",
       "\n",
       "    .dataframe thead th {\n",
       "        text-align: right;\n",
       "    }\n",
       "</style>\n",
       "<table border=\"1\" class=\"dataframe\">\n",
       "  <thead>\n",
       "    <tr style=\"text-align: right;\">\n",
       "      <th></th>\n",
       "      <th>categoryId</th>\n",
       "      <th>categoryName</th>\n",
       "      <th>title</th>\n",
       "      <th>publishedAt</th>\n",
       "      <th>trending_date</th>\n",
       "      <th>view_count</th>\n",
       "      <th>likes</th>\n",
       "      <th>dislikes</th>\n",
       "      <th>comment_count</th>\n",
       "    </tr>\n",
       "  </thead>\n",
       "  <tbody>\n",
       "    <tr>\n",
       "      <th>0</th>\n",
       "      <td>1</td>\n",
       "      <td>Film &amp; Animation</td>\n",
       "      <td>Honest Trailers | Avatar: The Last Airbender</td>\n",
       "      <td>2020-08-11T17:03:59Z</td>\n",
       "      <td>2020-08-12T00:00:00Z</td>\n",
       "      <td>833369</td>\n",
       "      <td>50181</td>\n",
       "      <td>1120</td>\n",
       "      <td>4634</td>\n",
       "    </tr>\n",
       "    <tr>\n",
       "      <th>1</th>\n",
       "      <td>1</td>\n",
       "      <td>Film &amp; Animation</td>\n",
       "      <td>Don't be a Tourist</td>\n",
       "      <td>2020-08-10T21:28:49Z</td>\n",
       "      <td>2020-08-12T00:00:00Z</td>\n",
       "      <td>1061892</td>\n",
       "      <td>117220</td>\n",
       "      <td>876</td>\n",
       "      <td>9311</td>\n",
       "    </tr>\n",
       "    <tr>\n",
       "      <th>2</th>\n",
       "      <td>1</td>\n",
       "      <td>Film &amp; Animation</td>\n",
       "      <td>Selena Gomez - This is the Year (Official Prem...</td>\n",
       "      <td>2020-08-10T16:32:06Z</td>\n",
       "      <td>2020-08-12T00:00:00Z</td>\n",
       "      <td>1523818</td>\n",
       "      <td>163684</td>\n",
       "      <td>2377</td>\n",
       "      <td>9845</td>\n",
       "    </tr>\n",
       "    <tr>\n",
       "      <th>3</th>\n",
       "      <td>1</td>\n",
       "      <td>Film &amp; Animation</td>\n",
       "      <td>Satina Wants a Bedtime Story (SATINA SHORT #1)</td>\n",
       "      <td>2020-08-08T16:00:04Z</td>\n",
       "      <td>2020-08-12T00:00:00Z</td>\n",
       "      <td>605317</td>\n",
       "      <td>101243</td>\n",
       "      <td>345</td>\n",
       "      <td>5605</td>\n",
       "    </tr>\n",
       "    <tr>\n",
       "      <th>4</th>\n",
       "      <td>1</td>\n",
       "      <td>Film &amp; Animation</td>\n",
       "      <td>Getting Suspended In High School</td>\n",
       "      <td>2020-08-07T20:52:37Z</td>\n",
       "      <td>2020-08-12T00:00:00Z</td>\n",
       "      <td>741546</td>\n",
       "      <td>66329</td>\n",
       "      <td>523</td>\n",
       "      <td>4273</td>\n",
       "    </tr>\n",
       "  </tbody>\n",
       "</table>\n",
       "</div>"
      ],
      "text/plain": [
       "   categoryId      categoryName  \\\n",
       "0           1  Film & Animation   \n",
       "1           1  Film & Animation   \n",
       "2           1  Film & Animation   \n",
       "3           1  Film & Animation   \n",
       "4           1  Film & Animation   \n",
       "\n",
       "                                               title           publishedAt  \\\n",
       "0       Honest Trailers | Avatar: The Last Airbender  2020-08-11T17:03:59Z   \n",
       "1                                 Don't be a Tourist  2020-08-10T21:28:49Z   \n",
       "2  Selena Gomez - This is the Year (Official Prem...  2020-08-10T16:32:06Z   \n",
       "3     Satina Wants a Bedtime Story (SATINA SHORT #1)  2020-08-08T16:00:04Z   \n",
       "4                   Getting Suspended In High School  2020-08-07T20:52:37Z   \n",
       "\n",
       "          trending_date  view_count   likes  dislikes  comment_count  \n",
       "0  2020-08-12T00:00:00Z      833369   50181      1120           4634  \n",
       "1  2020-08-12T00:00:00Z     1061892  117220       876           9311  \n",
       "2  2020-08-12T00:00:00Z     1523818  163684      2377           9845  \n",
       "3  2020-08-12T00:00:00Z      605317  101243       345           5605  \n",
       "4  2020-08-12T00:00:00Z      741546   66329       523           4273  "
      ]
     },
     "execution_count": 10,
     "metadata": {},
     "output_type": "execute_result"
    }
   ],
   "source": [
    "categories = [{'categoryId': 1, 'categoryName': 'Film & Animation'},\n",
    " {'categoryId': 2, 'categoryName': 'Cars & Vehicles'},\n",
    " {'categoryId': 10, 'categoryName': 'Music'},\n",
    " {'categoryId': 15, 'categoryName': 'Pets & Animals'},\n",
    " {'categoryId': 17, 'categoryName': 'Sport'},\n",
    " {'categoryId': 18, 'categoryName': 'Short Movies'},\n",
    " {'categoryId': 19, 'categoryName': 'Travel & Events'},\n",
    " {'categoryId': 20, 'categoryName': 'Gaming'},\n",
    " {'categoryId': 21, 'categoryName': 'Videoblogging'},\n",
    " {'categoryId': 22, 'categoryName': 'People & Blogs'},\n",
    " {'categoryId': 23, 'categoryName': 'Comedy'},\n",
    " {'categoryId': 24, 'categoryName': 'Entertainment'},\n",
    " {'categoryId': 25, 'categoryName': 'News & Politics'},\n",
    " {'categoryId': 26, 'categoryName': 'How-to & Style'},\n",
    " {'categoryId': 27, 'categoryName': 'Education'},\n",
    " {'categoryId': 28, 'categoryName': 'Science & Technology'},\n",
    " {'categoryId': 29, 'categoryName': 'Non-profits & Activism'},\n",
    " {'categoryId': 30, 'categoryName': 'Movies'},\n",
    " {'categoryId': 31, 'categoryName': 'Anime/Animation'},\n",
    " {'categoryId': 32, 'categoryName': 'Action/Adventure'},\n",
    " {'categoryId': 33, 'categoryName': 'Classics'},\n",
    " {'categoryId': 34, 'categoryName': 'Comedy'},\n",
    " {'categoryId': 35, 'categoryName': 'Documentary'},\n",
    " {'categoryId': 36, 'categoryName': 'Drama'},\n",
    " {'categoryId': 37, 'categoryName': 'Family'},\n",
    " {'categoryId': 38, 'categoryName': 'Foreign'},\n",
    " {'categoryId': 39, 'categoryName': 'Horror'},\n",
    " {'categoryId': 40, 'categoryName': 'Sci-Fi/Fantasy'},\n",
    " {'categoryId': 41, 'categoryName': 'Thriller'},\n",
    " {'categoryId': 42, 'categoryName': 'Shorts'},\n",
    " {'categoryId': 43, 'categoryName': 'Shows'},\n",
    " {'categoryId': 44, 'categoryName': 'Trailers'}]\n",
    "\n",
    "# make cateogries into a dataframe\n",
    "categories_df = pd.DataFrame(categories)\n",
    "\n",
    "# save a copy of the original wrangled dataframe\n",
    "original_wrangled_df = df.copy()\n",
    "\n",
    "# merge wrangled dataframe with columns\n",
    "df = categories_df.merge(df, on='categoryId')\n",
    "df.head()\n"
   ]
  },
  {
   "attachments": {},
   "cell_type": "markdown",
   "metadata": {},
   "source": [
    "We add a `total_engagement` column to add up view counts, likes, dislikes, and comment count for each video."
   ]
  },
  {
   "cell_type": "code",
   "execution_count": 11,
   "metadata": {},
   "outputs": [
    {
     "data": {
      "text/plain": [
       "categoryId          0\n",
       "categoryName        0\n",
       "title               0\n",
       "publishedAt         0\n",
       "trending_date       0\n",
       "view_count          0\n",
       "likes               0\n",
       "dislikes            0\n",
       "comment_count       0\n",
       "total_engagement    0\n",
       "dtype: int64"
      ]
     },
     "execution_count": 11,
     "metadata": {},
     "output_type": "execute_result"
    }
   ],
   "source": [
    "# Creating a new column (total_engagement) of all interactions/engagement in a video\n",
    "df['total_engagement'] = df['view_count'] + df['likes'] + df['dislikes'] + df['comment_count']\n",
    "df.head()\n",
    "\n",
    "# Checking for missing values\n",
    "df.isnull().sum()"
   ]
  },
  {
   "attachments": {},
   "cell_type": "markdown",
   "metadata": {},
   "source": [
    "# Data Analysis & Results"
   ]
  },
  {
   "attachments": {},
   "cell_type": "markdown",
   "metadata": {},
   "source": [
    "Display some basic descriptive statistics for the numeric variables"
   ]
  },
  {
   "cell_type": "code",
   "execution_count": 12,
   "metadata": {},
   "outputs": [
    {
     "data": {
      "text/html": [
       "<div>\n",
       "<style scoped>\n",
       "    .dataframe tbody tr th:only-of-type {\n",
       "        vertical-align: middle;\n",
       "    }\n",
       "\n",
       "    .dataframe tbody tr th {\n",
       "        vertical-align: top;\n",
       "    }\n",
       "\n",
       "    .dataframe thead th {\n",
       "        text-align: right;\n",
       "    }\n",
       "</style>\n",
       "<table border=\"1\" class=\"dataframe\">\n",
       "  <thead>\n",
       "    <tr style=\"text-align: right;\">\n",
       "      <th></th>\n",
       "      <th>categoryId</th>\n",
       "      <th>view_count</th>\n",
       "      <th>likes</th>\n",
       "      <th>dislikes</th>\n",
       "      <th>comment_count</th>\n",
       "      <th>total_engagement</th>\n",
       "    </tr>\n",
       "  </thead>\n",
       "  <tbody>\n",
       "    <tr>\n",
       "      <th>count</th>\n",
       "      <td>201113.000000</td>\n",
       "      <td>2.011130e+05</td>\n",
       "      <td>2.011130e+05</td>\n",
       "      <td>201113.000000</td>\n",
       "      <td>2.011130e+05</td>\n",
       "      <td>2.011130e+05</td>\n",
       "    </tr>\n",
       "    <tr>\n",
       "      <th>mean</th>\n",
       "      <td>18.794439</td>\n",
       "      <td>2.509499e+06</td>\n",
       "      <td>1.291421e+05</td>\n",
       "      <td>1515.886884</td>\n",
       "      <td>1.073535e+04</td>\n",
       "      <td>2.650892e+06</td>\n",
       "    </tr>\n",
       "    <tr>\n",
       "      <th>std</th>\n",
       "      <td>6.754585</td>\n",
       "      <td>7.222049e+06</td>\n",
       "      <td>4.117940e+05</td>\n",
       "      <td>9272.081439</td>\n",
       "      <td>8.129751e+04</td>\n",
       "      <td>7.633589e+06</td>\n",
       "    </tr>\n",
       "    <tr>\n",
       "      <th>min</th>\n",
       "      <td>1.000000</td>\n",
       "      <td>5.835000e+03</td>\n",
       "      <td>0.000000e+00</td>\n",
       "      <td>0.000000</td>\n",
       "      <td>0.000000e+00</td>\n",
       "      <td>6.650000e+03</td>\n",
       "    </tr>\n",
       "    <tr>\n",
       "      <th>25%</th>\n",
       "      <td>17.000000</td>\n",
       "      <td>4.781260e+05</td>\n",
       "      <td>1.854800e+04</td>\n",
       "      <td>0.000000</td>\n",
       "      <td>1.326000e+03</td>\n",
       "      <td>5.068330e+05</td>\n",
       "    </tr>\n",
       "    <tr>\n",
       "      <th>50%</th>\n",
       "      <td>20.000000</td>\n",
       "      <td>9.639930e+05</td>\n",
       "      <td>4.238500e+04</td>\n",
       "      <td>0.000000</td>\n",
       "      <td>2.917000e+03</td>\n",
       "      <td>1.019547e+06</td>\n",
       "    </tr>\n",
       "    <tr>\n",
       "      <th>75%</th>\n",
       "      <td>24.000000</td>\n",
       "      <td>2.157700e+06</td>\n",
       "      <td>1.053800e+05</td>\n",
       "      <td>823.000000</td>\n",
       "      <td>6.861000e+03</td>\n",
       "      <td>2.284256e+06</td>\n",
       "    </tr>\n",
       "    <tr>\n",
       "      <th>max</th>\n",
       "      <td>29.000000</td>\n",
       "      <td>2.777917e+08</td>\n",
       "      <td>1.602153e+07</td>\n",
       "      <td>879354.000000</td>\n",
       "      <td>6.738537e+06</td>\n",
       "      <td>2.943200e+08</td>\n",
       "    </tr>\n",
       "  </tbody>\n",
       "</table>\n",
       "</div>"
      ],
      "text/plain": [
       "          categoryId    view_count         likes       dislikes  \\\n",
       "count  201113.000000  2.011130e+05  2.011130e+05  201113.000000   \n",
       "mean       18.794439  2.509499e+06  1.291421e+05    1515.886884   \n",
       "std         6.754585  7.222049e+06  4.117940e+05    9272.081439   \n",
       "min         1.000000  5.835000e+03  0.000000e+00       0.000000   \n",
       "25%        17.000000  4.781260e+05  1.854800e+04       0.000000   \n",
       "50%        20.000000  9.639930e+05  4.238500e+04       0.000000   \n",
       "75%        24.000000  2.157700e+06  1.053800e+05     823.000000   \n",
       "max        29.000000  2.777917e+08  1.602153e+07  879354.000000   \n",
       "\n",
       "       comment_count  total_engagement  \n",
       "count   2.011130e+05      2.011130e+05  \n",
       "mean    1.073535e+04      2.650892e+06  \n",
       "std     8.129751e+04      7.633589e+06  \n",
       "min     0.000000e+00      6.650000e+03  \n",
       "25%     1.326000e+03      5.068330e+05  \n",
       "50%     2.917000e+03      1.019547e+06  \n",
       "75%     6.861000e+03      2.284256e+06  \n",
       "max     6.738537e+06      2.943200e+08  "
      ]
     },
     "execution_count": 12,
     "metadata": {},
     "output_type": "execute_result"
    }
   ],
   "source": [
    "df.describe()"
   ]
  },
  {
   "attachments": {},
   "cell_type": "markdown",
   "metadata": {},
   "source": [
    "Next, we'll create a correlation matrix to see if there are any relationships between the variables."
   ]
  },
  {
   "cell_type": "code",
   "execution_count": 13,
   "metadata": {},
   "outputs": [],
   "source": [
    "# Create a correlation matrix\n",
    "numeric_cols = df.select_dtypes(include=[np.number])\n",
    "corr = numeric_cols.corr()"
   ]
  },
  {
   "cell_type": "code",
   "execution_count": 14,
   "metadata": {},
   "outputs": [
    {
     "data": {
      "image/png": "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",
      "text/plain": [
       "<Figure size 1000x800 with 2 Axes>"
      ]
     },
     "metadata": {},
     "output_type": "display_data"
    }
   ],
   "source": [
    "# Plot the correlation matrix\n",
    "plt.figure(figsize=(10,8))\n",
    "sns.heatmap(corr, annot=True, fmt=\".2f\", cmap='Blues')\n",
    "plt.title(\"Correlation Matrix of YouTube Data\")\n",
    "plt.show()"
   ]
  },
  {
   "attachments": {},
   "cell_type": "markdown",
   "metadata": {},
   "source": [
    "The correlation matrix shows that:\n",
    "\n",
    "1. view_count and total_engagement are perfectly correlated since total engagement is partially derived from view   count.\n",
    "2. likes are strongly positively correlated with both view_count and total_engagement, suggesting videos with more views or engagement tend to get more likes.\n",
    "3. dislikes and comment_count are moderately correlated with view_count, indicating that more viewed videos tend to have more dislikes and comments, though the relationship isn't as strong as with likes.\n",
    "4. categoryId shows very little correlation with other variables, suggesting the video category isn't strongly linearly related to other variables."
   ]
  },
  {
   "attachments": {},
   "cell_type": "markdown",
   "metadata": {},
   "source": [
    "Upon taking a quick skim of the trending page on YouTube, a substantial portion of videos have titles in all caps or, at the very least, a few words in all caps. This technique can potentially influence a video's visibility and thus increase click rates. So, we will now calculate the percentage of caps in a given title to see if it influences the video's popularity."
   ]
  },
  {
   "cell_type": "code",
   "execution_count": 15,
   "metadata": {},
   "outputs": [
    {
     "data": {
      "text/html": [
       "<div>\n",
       "<style scoped>\n",
       "    .dataframe tbody tr th:only-of-type {\n",
       "        vertical-align: middle;\n",
       "    }\n",
       "\n",
       "    .dataframe tbody tr th {\n",
       "        vertical-align: top;\n",
       "    }\n",
       "\n",
       "    .dataframe thead th {\n",
       "        text-align: right;\n",
       "    }\n",
       "</style>\n",
       "<table border=\"1\" class=\"dataframe\">\n",
       "  <thead>\n",
       "    <tr style=\"text-align: right;\">\n",
       "      <th></th>\n",
       "      <th>categoryId</th>\n",
       "      <th>categoryName</th>\n",
       "      <th>title</th>\n",
       "      <th>publishedAt</th>\n",
       "      <th>trending_date</th>\n",
       "      <th>view_count</th>\n",
       "      <th>likes</th>\n",
       "      <th>dislikes</th>\n",
       "      <th>comment_count</th>\n",
       "      <th>total_engagement</th>\n",
       "      <th>caps_percent</th>\n",
       "    </tr>\n",
       "  </thead>\n",
       "  <tbody>\n",
       "    <tr>\n",
       "      <th>0</th>\n",
       "      <td>1</td>\n",
       "      <td>Film &amp; Animation</td>\n",
       "      <td>Honest Trailers | Avatar: The Last Airbender</td>\n",
       "      <td>2020-08-11T17:03:59Z</td>\n",
       "      <td>2020-08-12T00:00:00Z</td>\n",
       "      <td>833369</td>\n",
       "      <td>50181</td>\n",
       "      <td>1120</td>\n",
       "      <td>4634</td>\n",
       "      <td>889304</td>\n",
       "      <td>16</td>\n",
       "    </tr>\n",
       "    <tr>\n",
       "      <th>1</th>\n",
       "      <td>1</td>\n",
       "      <td>Film &amp; Animation</td>\n",
       "      <td>Don't be a Tourist</td>\n",
       "      <td>2020-08-10T21:28:49Z</td>\n",
       "      <td>2020-08-12T00:00:00Z</td>\n",
       "      <td>1061892</td>\n",
       "      <td>117220</td>\n",
       "      <td>876</td>\n",
       "      <td>9311</td>\n",
       "      <td>1189299</td>\n",
       "      <td>13</td>\n",
       "    </tr>\n",
       "    <tr>\n",
       "      <th>2</th>\n",
       "      <td>1</td>\n",
       "      <td>Film &amp; Animation</td>\n",
       "      <td>Selena Gomez - This is the Year (Official Prem...</td>\n",
       "      <td>2020-08-10T16:32:06Z</td>\n",
       "      <td>2020-08-12T00:00:00Z</td>\n",
       "      <td>1523818</td>\n",
       "      <td>163684</td>\n",
       "      <td>2377</td>\n",
       "      <td>9845</td>\n",
       "      <td>1699724</td>\n",
       "      <td>15</td>\n",
       "    </tr>\n",
       "    <tr>\n",
       "      <th>3</th>\n",
       "      <td>1</td>\n",
       "      <td>Film &amp; Animation</td>\n",
       "      <td>Satina Wants a Bedtime Story (SATINA SHORT #1)</td>\n",
       "      <td>2020-08-08T16:00:04Z</td>\n",
       "      <td>2020-08-12T00:00:00Z</td>\n",
       "      <td>605317</td>\n",
       "      <td>101243</td>\n",
       "      <td>345</td>\n",
       "      <td>5605</td>\n",
       "      <td>712510</td>\n",
       "      <td>38</td>\n",
       "    </tr>\n",
       "    <tr>\n",
       "      <th>4</th>\n",
       "      <td>1</td>\n",
       "      <td>Film &amp; Animation</td>\n",
       "      <td>Getting Suspended In High School</td>\n",
       "      <td>2020-08-07T20:52:37Z</td>\n",
       "      <td>2020-08-12T00:00:00Z</td>\n",
       "      <td>741546</td>\n",
       "      <td>66329</td>\n",
       "      <td>523</td>\n",
       "      <td>4273</td>\n",
       "      <td>812671</td>\n",
       "      <td>18</td>\n",
       "    </tr>\n",
       "  </tbody>\n",
       "</table>\n",
       "</div>"
      ],
      "text/plain": [
       "   categoryId      categoryName  \\\n",
       "0           1  Film & Animation   \n",
       "1           1  Film & Animation   \n",
       "2           1  Film & Animation   \n",
       "3           1  Film & Animation   \n",
       "4           1  Film & Animation   \n",
       "\n",
       "                                               title           publishedAt  \\\n",
       "0       Honest Trailers | Avatar: The Last Airbender  2020-08-11T17:03:59Z   \n",
       "1                                 Don't be a Tourist  2020-08-10T21:28:49Z   \n",
       "2  Selena Gomez - This is the Year (Official Prem...  2020-08-10T16:32:06Z   \n",
       "3     Satina Wants a Bedtime Story (SATINA SHORT #1)  2020-08-08T16:00:04Z   \n",
       "4                   Getting Suspended In High School  2020-08-07T20:52:37Z   \n",
       "\n",
       "          trending_date  view_count   likes  dislikes  comment_count  \\\n",
       "0  2020-08-12T00:00:00Z      833369   50181      1120           4634   \n",
       "1  2020-08-12T00:00:00Z     1061892  117220       876           9311   \n",
       "2  2020-08-12T00:00:00Z     1523818  163684      2377           9845   \n",
       "3  2020-08-12T00:00:00Z      605317  101243       345           5605   \n",
       "4  2020-08-12T00:00:00Z      741546   66329       523           4273   \n",
       "\n",
       "   total_engagement  caps_percent  \n",
       "0            889304            16  \n",
       "1           1189299            13  \n",
       "2           1699724            15  \n",
       "3            712510            38  \n",
       "4            812671            18  "
      ]
     },
     "execution_count": 15,
     "metadata": {},
     "output_type": "execute_result"
    }
   ],
   "source": [
    "def caps_calc(title):\n",
    "    title = title.replace(\" \", \"\")\n",
    "\n",
    "    num_caps = 0\n",
    "    for char in title:\n",
    "        if char.isupper():\n",
    "            num_caps += 1\n",
    "    \n",
    "    return round((num_caps/len(title)) * 100.0)\n",
    "    \n",
    "# add a new column for caps_percent\n",
    "df['caps_percent'] = df.title.apply(caps_calc)\n",
    "df.head()"
   ]
  },
  {
   "cell_type": "code",
   "execution_count": 16,
   "metadata": {},
   "outputs": [
    {
     "data": {
      "image/png": "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",
      "text/plain": [
       "<Figure size 640x480 with 1 Axes>"
      ]
     },
     "metadata": {},
     "output_type": "display_data"
    }
   ],
   "source": [
    "# take a look at percent of caps of a title and its corresponding view count\n",
    "plt.scatter(df['caps_percent'], df['view_count'])\n",
    "\n",
    "# find the mean of caps_percent and display on graph\n",
    "caps_percent_mean = df['caps_percent'].mean()\n",
    "plt.axvline(caps_percent_mean, color='red', label='Caps Percent Mean')\n",
    "\n",
    "plt.legend()\n",
    "plt.title('Caps Percent vs. View Count')\n",
    "plt.xlabel('Caps Percent')\n",
    "plt.ylabel('View Count')\n",
    "plt.show()"
   ]
  },
  {
   "cell_type": "code",
   "execution_count": 17,
   "metadata": {},
   "outputs": [
    {
     "data": {
      "image/png": "iVBORw0KGgoAAAANSUhEUgAAAk0AAAGxCAYAAAB/QoKnAAAAOXRFWHRTb2Z0d2FyZQBNYXRwbG90bGliIHZlcnNpb24zLjcuMSwgaHR0cHM6Ly9tYXRwbG90bGliLm9yZy/bCgiHAAAACXBIWXMAAA9hAAAPYQGoP6dpAABR1klEQVR4nO3dd1gU5/428HtpS18p0iICNqKCDRto7IIFjFFjQRGj0SS2WFBDjIpJ1NjNUWNLIsYSTGIXg4AtMWIjwYoe9Wg0EUQBF0GlPu8f+TGvwwIOCAf03J/r2utyZ74z88w4s3vvMwWVEEKAiIiIiEqlV9UNICIiInoZMDQRERERKcDQRERERKQAQxMRERGRAgxNRERERAowNBEREREpwNBEREREpABDExEREZECDE1ERERECjA0VbHz58/jnXfegZubG4yNjWFubo4WLVpg0aJFSEtLq+rmAQC2bduGFStWVMmy09LSMHjwYNjZ2UGlUqFv3746Nffv34eRkREGDx5c4nwyMjJgamqKPn36AAA6deqETp06PXf5t27dgkqlQnh4eDnXoPLdu3cPH3/8MZo1awZLS0sYGRmhVq1a6NevH/bu3Yv8/PyqbmKlCw8Ph0qlwq1bt0qtCwsLg0qlkl6GhoaoXbs2Ro8ejeTk5EpddnFOnDiBsLAwPHz4UGec0n20olX28b5v3z4EBATA3t4eRkZGsLa2RteuXbF161bk5uZW2nLLq/AzoPClp6cHGxsb9OrVC3FxcVXdvBf2+PFjhIWF4ejRo4rqn90eYWFhxdaMHDlSqnnlCKoy69evFwYGBqJx48Zi9erV4siRIyI6OlrMnz9fuLm5ib59+1Z1E4UQQvTu3Vu4uLhUybInTZokjIyMxJYtW0RcXJy4evVqsXX9+/cXarVapKWlFTt+3bp1AoDYvXu3EEKIS5cuiUuXLj13+Tdv3hQAxMaNG8u9DpUpLi5O1KxZU9ja2opZs2aJyMhIcezYMbF582YxcOBAoa+vL77++uuqbmal27hxowAgbt68WWrdnDlzBAARFRUl4uLiRExMjJg2bZrQ09MTjRo1Ejk5OZW27OIsXry4xGmV7qMVrbKO94KCAjFixAgBQPTq1Uts2bJFHDt2TOzdu1dMnjxZWFpaihUrVlT4cl9U4WfAhAkTRFxcnDh+/LhYt26dcHJyEmq1Wvz+++9V3cQXcv/+fQFAzJkzR1F94fawsLAQLi4uIj8/Xzb+0aNHwtzcXFhaWopXMWK8emv0kjhx4oTQ19cXPXr0EE+fPtUZn52dLfbs2VMFLdNVlaGpW7duomHDhs+tO3DggAAgVq5cWez4Nm3aCHt7e5Gbm1um5Vfn0JSeni7s7e2Fm5ubuHv3brE1586dE4cPHy51Po8fPxYFBQWV0cT/mrKGpvv378uGv/POOwLAc7fViyy7OKWFpqpSWcf7woULBQAxd+7cYscnJSWJX3/9tcKX+6IKPwMWL14sG37o0CEBQLz77rsvvIysrKwXnkd5lTc0vfvuuwKAiI6Olo3/+uuvhYmJiRg2bBhDE1Ucf39/YWBgIG7fvq2oPj8/XyxcuFC4u7sLIyMjUbNmTREUFCTu3Lkjq3NxcRHBwcE603fs2FF07NhRen/kyBEBQGzbtk18/PHHwtHRUVhYWIiuXbuKK1euyKYDoPMq9NVXX4kmTZoIMzMzYW5uLtzd3UVoaOhz1yc1NVV88MEHwsnJSRgaGgo3Nzfx8ccfSwGy8MAs+jpy5EiJ26dWrVqiRYsWOuMuX74sAIhp06aVuD2EEOLvv/8Wb7/9tvQraeDAgSIuLq7Y0HTmzBkREBAgrKyshFqtFs2aNRPbt2/XWfaFCxdEnz59RI0aNYRarRZNmzYV4eHhOm3/7LPPRIMGDYSxsbHQaDTC09Pzub+6Fy1aJACIH3/8sdS6ZxV+wR88eFC88847wtbWVgAQT548qbR9bPPmzWLy5MnC3t5eGBsbiw4dOhT761zpNo2LixM+Pj5CrVYLR0dH8dFHH4n169e/UGhavXq1ACC+//572fCYmBjRpUsXYWFhIUxMTISPj4+IjY0tdps+u+zo6GjRp08f8dprrwm1Wi3q1q0rxowZI1tuYVtK2sef3Z45OTmiZs2aYtiwYTrrlJ6eLoyNjcXkyZOlYVqtVkydOlW4uroKQ0ND4eTkJD788EORmZlZ6vZ53vH+vOO2JDk5OcLa2lq8/vrrigN6WFiYaN26tbCyshIWFhaiefPm4uuvv9aZ3sXFRfTu3Vvs3LlTeHp6CrVaLdzc3MSXX34pqyvvcVZSaMrKyhIARPfu3aVhSvaXwv/3+Ph40b9/f1GjRg3h4OAgtfFf//qXaNq0qdTGNm3a6PyAjoiIEG3bthWmpqbCzMxM+Pr66hxTwcHBwszMTFy7dk307NlTmJmZiVq1aokpU6Y893O2uOO7uO3h4+MjBg8eLBvv4+Mjhg4dKsaNG1dsaFLS9jNnzohBgwYJFxcXYWxsLFxcXMTgwYPFrVu3ZHWFx97hw4fF+++/L2xsbIS1tbV46623xN9//13iOrwIhqYqkJeXJ0xNTUWbNm0UTzNmzBgBQIwfP15ERUWJtWvXipo1awpnZ2fZB3FZv9BcXV3F0KFDRWRkpPj+++9F7dq1Rf369UVeXp4Q4p9TBO3atRMODg4iLi5OegkhxPfffy91W0dHR4vY2Fixdu1aMXHixFLX5cmTJ1LQWrJkiYiOjhazZs0SBgYGolevXkIIIZ4+fSri4uJE8+bNRZ06daTlarXaEuf7ySefCAAiISFBNnzatGkCgEhMTCxxezx+/Fg0bNhQaDQasXLlSnHw4EExceJEUbt2bZ3QdPjwYWFkZCTeeOMNsX37dhEVFSWddni27sqVK8LCwkLUrVtXfPfddyIyMlIMGTJEABALFy6U6hYsWCD09fXFnDlzxKFDh0RUVJRYsWKFCAsLK3U7du/eXejr65fpV2rhh8xrr70mxowZI37++Wfx008/iby8vErbx5ydncWbb74p9u3bJ7Zs2SLq1asnLC0txY0bN8q8TS9duiRMTU1Fo0aNxPfffy/27Nkj/Pz8pP+n8oamkJAQ6Yus0ObNm4VKpRJ9+/YVO3fuFPv27RP+/v5CX19f9kVYXGhas2aNWLBggdi7d684duyY2LRpk2jatKlwd3eXTgHeuXNHTJgwQQAQO3fu1NnHi27PyZMnCxMTE51j4KuvvhIAxPnz54UQ/3yZN2vWTNja2oply5aJ2NhY8eWXXwqNRiO6dOlSamgp7XhXctyW5MSJEwKAmDFjRql1zxoxYoT45ptvRExMjIiJiRGfffaZMDEx0empcnFxEa+99pqoXbu2+Pbbb8WBAwfE0KFDdYJOeY+zkkLTuXPnBAARGBgohFC+vxTugy4uLmLGjBkiJiZGumwgKChIqFQq8e6774o9e/aIn3/+WcybN08WAOfNmydUKpUYOXKk2L9/v9i5c6fw9vYWZmZmstO5wcHBwsjISDRs2FAsWbJExMbGitmzZwuVSiVtw6dPn4qoqCgBQIwaNUr6/75+/bqi7fHNN98IY2Nj6bKIK1euSCGmuNCktO0//vijmD17tti1a5c4duyYiIiIEB07dhQ1a9aUHbuFx16dOnXEhAkTxMGDB8XXX38trKysROfOnUv9fy0vhqYqkJycLADoJPSSJCYmCgBi7NixsuGnTp0SAMTHH38sDSvrF1rRD7sffvhBAJA+KIUoubt+/PjxokaNGorW4Vlr164VAMQPP/wgG17Yff9sd2/Hjh1F48aNFc33P//5j1CpVLLQlpubKxwcHES7du1ktUW3x5o1awQAnV90o0eP1vnifv3110Xz5s11TvX5+/sLR0dH6Rz/4MGDhVqt1ulN7NmzpzA1NRUPHz6UpmvWrJmidXzW66+/Lv1CfVZ+fr7Izc2VXs9ec1D4ITN8+HDZNJW5j7Vo0UL2RX3r1i1haGgoO62hdJsOGjRImJiYiOTkZKkmLy9PvP7662UKTcnJySI3N1ekp6eLH374QZiZmYkhQ4ZIdVlZWcLa2loEBATIps/PzxdNmzYVrVu3loY97/RcQUGByM3NFX/++afOPlba6bmi2/P8+fMCgFi/fr2srnXr1sLLy0t6v2DBAqGnpyfOnDkjq/vpp58EAHHgwIESt48QJR/vZTlui4qIiBAAxNq1a0tddkkK9+lPP/1U2NjYyPYnFxcXoVKpdH4sde/eXVhaWko/Ksp7nBWGhIULF4rc3Fzx9OlTER8fL1q1aiUAiMjIyDLtL4X74OzZs2W1v/zyiwAgZs6cWWJbbt++LQwMDMSECRNkwx89eiQcHBzEwIEDpWHBwcHF/n/16tVLuLu7S+/Le3pu8eLF0vVLq1atEkL88wPVzc1NFBQU6ISmsrS9qLy8PJGZmSnMzMxkAbLw2Cv6uVXYC5+UlKRoncqCd8+9BI4cOQIAGDFihGx469at0bBhQxw6dKjc8y68m6xQkyZNAAB//vnnc6dt3bo1Hj58iCFDhmDPnj148OCBomUePnwYZmZmGDBggGx44fqVd33c3NzQuXNnbN26FTk5OQCAn3/+GcnJyRg5cmSp0x45cgQWFhY62yMwMFD2/vr167hy5QqGDh0KAMjLy5NevXr1QlJSEq5evSqtZ9euXeHs7Kyzno8fP5buvGndujXOnTuHsWPH4uDBg8jIyCjX+heaMmUKDA0NpVfRdQKA/v3766x/YdueVRH7WGBgoOwuGhcXF/j4+EjLLMs2PXLkCLp27Qp7e3tpfvr6+hg0aFCZ2uTg4ABDQ0NYWVlh4MCB8PLywqZNm6TxJ06cQFpaGoKDg2XtKSgoQI8ePXDmzBlkZWWVOP+UlBS8//77cHZ2hoGBAQwNDeHi4gIASExMLFNbC3l6esLLywsbN26UhiUmJuL06dOy/Xv//v3w8PBAs2bNZG338/ODSqVSfJdUUZV13Ja2vG7dukGj0UBfXx+GhoaYPXs2UlNTkZKSIqtt3LgxmjZtKhsWGBiIjIwM/P777wBe/DibMWMGDA0NYWxsDC8vL9y+fRvr1q1Dr169yrW/FD0Gf/75ZwDAuHHjSmzDwYMHkZeXh+HDh8uWY2xsjI4dO+r836pUKgQEBMiGNWnSRNHnuxLm5uZ4++238e233yIvLw/fffcd3nnnnWLvmitL2zMzMzFjxgzUq1cPBgYGMDAwgLm5ObKysoo9fl7ke6ysDCp8jvRctra2MDU1xc2bNxXVp6amAgAcHR11xjk5Ob3QjmFjYyN7r1arAQBPnjx57rRBQUHIy8vDhg0b0L9/fxQUFKBVq1b4/PPP0b179xKnS01NhYODg86BZWdnBwMDA2l9y2PUqFEYOnQo9u7diwEDBmDjxo0wNzfHwIEDS50uNTVV9kVcyMHBQfb+3r17AICQkBCEhIQUO6/C8Jiamlri/1nheAAIDQ2FmZkZtmzZgrVr10JfXx8dOnTAwoUL0bJlyxLbXLt2bVy7dg2PHz+GqampNHzq1KkYNmwYAN0Pk0JF21WZ+1jRbVg47Ny5cwDKvk1Lml9ZxMbGQqPRIC0tDevXr8eOHTswYcIErF27VtamogHhWWlpaTAzM9MZXlBQAF9fX9y9exezZs2Cp6cnzMzMUFBQgLZt2yo6tkoycuRIjBs3DleuXMHrr7+OjRs3Qq1WY8iQIVLNvXv3cP36dRgaGhY7D6U/bop6keO2du3aAKD4M+/06dPw9fVFp06dsGHDBtSqVQtGRkbYvXs35s2bp7MNS9snXvQ4K/Thhx9i2LBh0NPTQ40aNeDm5iZti/LsL0WPtfv370NfX7/UfblwOa1atSp2vJ6evB/E1NQUxsbGsmFqtRpPnz4tcRllNWrUKLRv3x7z5s3D/fv3dX54FSpL2wMDA3Ho0CHMmjULrVq1gqWlJVQqFXr16lXs8fMi32NlxdBUBfT19dG1a1f8/PPP+Ouvv1CrVq1S6wt3iKSkJJ3au3fvwtbWVnpvbGyM7OxsnXk8ePBAVldR3nnnHbzzzjvIysrCL7/8gjlz5sDf3x///ve/pV/WRdnY2ODUqVMQQsg+gFNSUpCXl/dC7ezXrx+srKzw7bffomPHjti/fz+GDx8Oc3PzUqezsbHB6dOndYYXfXZPYdtCQ0PRr1+/Yufl7u4uzTMpKUln/N27d2XzMjAwwJQpUzBlyhQ8fPgQsbGx+Pjjj+Hn54c7d+7IAtGzunfvjujoaBw4cED2Ye3s7Cz1bhkZGRU7bdEvvsrcx4p7/lFycrK0zLJu05LmVxZNmzaVltu9e3f4+flh/fr1GDVqFFq1aiWNW7lyJdq2bVvsPIoL2QBw8eJFnDt3DuHh4QgODpaGX79+vUxtLM6QIUMwZcoUhIeHY968edi8eTP69u0LKysrqcbW1hYmJib49ttvi51HeY+vFzluW7ZsCWtra+zZswcLFix47vN7IiIiYGhoiP3798u+9Hfv3l1sfWn7ROF+Vt7jrFCtWrVKDFfl2V+KboOaNWsiPz8fycnJxf54eXY5P/30U4mfr/9t7dq1g7u7Oz799FN0795dp2e9kNK2a7Va7N+/H3PmzMFHH30kDc/Ozq4Wzy7k6bkqEhoaCiEERo8eLZ1KelZubi727dsHAOjSpQsAYMuWLbKaM2fOIDExEV27dpWGubq64vz587K6f//739LpjfJQq9XPTexmZmbo2bMnZs6ciZycHFy6dKnE2q5duyIzM1PnA/C7776TxpeXsbExAgMDER0djYULFyI3N/e5p+YAoHPnznj06BH27t0rG75t2zbZe3d3d9SvXx/nzp1Dy5Yti31ZWFhI63H48GEpJD27nqampsV+uNaoUQMDBgzAuHHjkJaWVuoDE999913Y29tj+vTpxYazsqjMfez777+HEEJ6/+eff+LEiRPSgxvLsk07d+6MQ4cOSb9aASA/Px/bt28v97qrVCqsXr0a+vr6+OSTTwD880VQo0YNXL58ucQ2PS+QFv7aLbRu3Tqd2rL+IrayskLfvn3x3XffYf/+/cWeevb398eNGzdgY2NTbLtdXV1LXUZJx/uLHLeGhoaYMWMGrly5gs8++6zYmpSUFPz2228A/tmGBgYG0NfXl8Y/efIEmzdvLnbaS5cuST2XhbZt2wYLCwu0aNFCp74sx5kSL7K/FOrZsycAYM2aNSXW+Pn5wcDAADdu3ChxOWVVEb0yn3zyCQICAjB16tQXbrtKpYIQQuf4+frrr6vFg3rZ01RFvL29sWbNGowdOxZeXl744IMP0LhxY+Tm5uKPP/7A+vXr4eHhgYCAALi7u2PMmDFYuXIl9PT00LNnT9y6dQuzZs2Cs7MzJk+eLM03KCgIw4YNw9ixY9G/f3/8+eefWLRoEWrWrFnutnp6emLnzp1Ys2YNvLy8oKenh5YtW2L06NEwMTFBu3bt4OjoiOTkZCxYsAAajabELlgAGD58OFavXo3g4GDcunULnp6eOH78OObPn49evXqhW7du5W4r8E938erVq7Fs2TK8/vrr8PHxee40w4cPx/LlyzF8+HDMmzcP9evXx4EDB3Dw4EGd2nXr1qFnz57w8/PDiBEj8NprryEtLQ2JiYn4/fff8eOPPwIA5syZg/3796Nz586YPXs2rK2tsXXrVkRGRmLRokXQaDQAgICAAHh4eKBly5aoWbMm/vzzT6xYsQIuLi6oX79+iW2uUaMGdu/ejYCAADRt2hQffPAB2rZtC3Nzc6SmpuKXX35BcnKyovWvzH0sJSUFb731FkaPHg2tVos5c+bA2NgYoaGhZd6mn3zyCfbu3YsuXbpg9uzZMDU1xerVq0u9vkiJ+vXrY8yYMfjqq69w/PhxtG/fHitXrkRwcDDS0tIwYMAA2NnZ4f79+zh37hzu379f4pfb66+/jrp16+Kjjz6CEALW1tbYt28fYmJidGo9PT0BAF9++SWCg4NhaGgId3d3KSQWZ+TIkdi+fTvGjx+PWrVq6RwvkyZNwo4dO9ChQwdMnjwZTZo0QUFBAW7fvo3o6GhMnToVbdq0KXH+JR3vL3rcTps2DYmJiZgzZw5Onz6NwMBAODs7Q6vV4pdffsH69esxd+5ctGvXDr1798ayZcsQGBiIMWPGIDU1FUuWLNH5Ii3k5OSEPn36ICwsDI6OjtiyZQtiYmKwcOFCqQepvMeZEubm5uXeXwq98cYbCAoKwueff4579+7B398farUaf/zxB0xNTTFhwgS4urri008/xcyZM/Gf//wHPXr0gJWVFe7du4fTp0/DzMwMc+fOLVPbLSws4OLigj179qBr166wtraGra3tc8P1s4YNGyZdElASpW23tLREhw4dsHjxYqkdx44dwzfffIMaNWqUad0qRYVfWk5lkpCQIIKDg0Xt2rWFkZGRMDMzE82bNxezZ88WKSkpUl3hM3QaNGggDA0Nha2trRg2bJjOM3QKCgrEokWLRJ06dYSxsbFo2bKlOHz4cIl3NhV9xk9xD3NMS0sTAwYMEDVq1BAqlUq6I2LTpk2ic+fOwt7eXhgZGQknJycxcOBA6dbn0qSmpor3339fODo6CgMDA+Hi4iJCQ0N1nvdSlrvnntW8eXMBQCxatKjY8cU9p+mvv/4S/fv3F+bm5sLCwkL0799fulW66HOazp07JwYOHCjs7OyEoaGhcHBwEF26dNG5O+jChQsiICBAaDQaYWRkJJo2baozr6VLlwofHx9ha2srjIyMRO3atcWoUaN0nklSkuTkZBEaGirdDl74XJ6AgADx3Xffye5IK7zbpOidVUJU3j62efNmMXHiRFGzZk2hVqvFG2+8Ic6ePauzfKXb9LfffhNt27YVarVaODg4iGnTpr3wc5qEEOLevXvC3NxcdqvysWPHRO/evYW1tbUwNDQUr732mujdu7fsuCnu7rnLly+L7t27CwsLC2FlZSXefvttcfv27WLvUgoNDRVOTk5CT0+vxOc0PSs/P184OzuXeqdVZmam+OSTT6RnbhU+k2jy5MmyOw+LU9LxLoTy47Y0e/bsEb179xY1a9YUBgYG0u3ha9euFdnZ2VLdt99+K9zd3YVarRZ16tQRCxYsEN98843Oti58TtNPP/0kGjduLIyMjISrq6tYtmyZbLnlPc5KeuRAcZTsL6Xtg/n5+WL58uXCw8ND+n/z9vYW+/btk9Xt3r1bdO7cWVhaWgq1Wi1cXFzEgAEDZI82KHxOU1GFy39WbGysaN68uVCr1WV6TlNpSnpOk5K2F34WFz6jq0ePHuLixYs6d+6W9HlW+NlT0nP9XoRKiGf6zYmIKsjRo0fRuXNn/Pjjj6VeIEv0IlxdXeHh4YH9+/dXdVPofwCvaSIiIiJSgKGJiIiISAGeniMiIiJSgD1NRERERAowNBEREREpwNBEREREpAAfblmBCgoKcPfuXVhYWDz3zwQQERFR9SCEwKNHj+Dk5KTzN/yexdBUge7evVvi390hIiKi6u3OnTul/j1YhqYKVPinD+7cuQNLS8sqbg0REREpkZGRAWdn51L/hBHA0FShCk/JWVpaMjQRERG9ZJ53aQ0vBCciIiJSgKGJiIiISAGGJiIiIiIFGJqIiIiIFGBoIiIiIlKAoYmIiIhIAYYmIiIiIgUYmoiIiIgUYGgiIiIiUoChiYiIiEgBhiYiIiIiBRiaiIiIiBRgaCIiIiJSgKGJiIiISAGDqm4AKeP6UWRVN4GoWrv1Re+qbgIRveLY00RERESkAEMTERERkQIMTUREREQKMDQRERERKcDQRERERKQAQxMRERGRAgxNRERERAowNBEREREpwNBEREREpABDExEREZECDE1ERERECjA0ERERESnA0ERERESkAEMTERERkQJVGpoWLFiAVq1awcLCAnZ2dujbty+uXr0qqxkxYgRUKpXs1bZtW1lNdnY2JkyYAFtbW5iZmaFPnz7466+/ZDXp6ekICgqCRqOBRqNBUFAQHj58KKu5ffs2AgICYGZmBltbW0ycOBE5OTmVsu5ERET0cqnS0HTs2DGMGzcOJ0+eRExMDPLy8uDr64usrCxZXY8ePZCUlCS9Dhw4IBs/adIk7Nq1CxERETh+/DgyMzPh7++P/Px8qSYwMBAJCQmIiopCVFQUEhISEBQUJI3Pz89H7969kZWVhePHjyMiIgI7duzA1KlTK3cjEBER0UvBoCoXHhUVJXu/ceNG2NnZIT4+Hh06dJCGq9VqODg4FDsPrVaLb775Bps3b0a3bt0AAFu2bIGzszNiY2Ph5+eHxMREREVF4eTJk2jTpg0AYMOGDfD29sbVq1fh7u6O6OhoXL58GXfu3IGTkxMAYOnSpRgxYgTmzZsHS0vLytgERERE9JKoVtc0abVaAIC1tbVs+NGjR2FnZ4cGDRpg9OjRSElJkcbFx8cjNzcXvr6+0jAnJyd4eHjgxIkTAIC4uDhoNBopMAFA27ZtodFoZDUeHh5SYAIAPz8/ZGdnIz4+vtj2ZmdnIyMjQ/YiIiKiV1O1CU1CCEyZMgXt27eHh4eHNLxnz57YunUrDh8+jKVLl+LMmTPo0qULsrOzAQDJyckwMjKClZWVbH729vZITk6Wauzs7HSWaWdnJ6uxt7eXjbeysoKRkZFUU9SCBQuka6Q0Gg2cnZ3LvwGIiIioWqvS03PPGj9+PM6fP4/jx4/Lhg8aNEj6t4eHB1q2bAkXFxdERkaiX79+Jc5PCAGVSiW9f/bfL1LzrNDQUEyZMkV6n5GRweBERET0iqoWPU0TJkzA3r17ceTIEdSqVavUWkdHR7i4uODatWsAAAcHB+Tk5CA9PV1Wl5KSIvUcOTg44N69ezrzun//vqymaI9Seno6cnNzdXqgCqnValhaWspeRERE9Gqq0tAkhMD48eOxc+dOHD58GG5ubs+dJjU1FXfu3IGjoyMAwMvLC4aGhoiJiZFqkpKScPHiRfj4+AAAvL29odVqcfr0aanm1KlT0Gq1spqLFy8iKSlJqomOjoZarYaXl1eFrC8RERG9vKr09Ny4ceOwbds27NmzBxYWFlJPj0ajgYmJCTIzMxEWFob+/fvD0dERt27dwscffwxbW1u89dZbUu2oUaMwdepU2NjYwNraGiEhIfD09JTupmvYsCF69OiB0aNHY926dQCAMWPGwN/fH+7u7gAAX19fNGrUCEFBQVi8eDHS0tIQEhKC0aNHsweJiIiIqranac2aNdBqtejUqRMcHR2l1/bt2wEA+vr6uHDhAt588000aNAAwcHBaNCgAeLi4mBhYSHNZ/ny5ejbty8GDhyIdu3awdTUFPv27YO+vr5Us3XrVnh6esLX1xe+vr5o0qQJNm/eLI3X19dHZGQkjI2N0a5dOwwcOBB9+/bFkiVL/nsbhIiIiKotlRBCVHUjXhUZGRnQaDTQarUV3jvl+lFkhc6P6FVz64veVd0EInpJKf3+rhYXghMRERFVdwxNRERERAowNBEREREpwNBEREREpABDExEREZECDE1ERERECjA0ERERESnA0ERERESkAEMTERERkQIMTUREREQKMDQRERERKcDQRERERKQAQxMRERGRAgxNRERERAowNBEREREpwNBEREREpABDExEREZECDE1ERERECjA0ERERESnA0ERERESkAEMTERERkQIMTUREREQKMDQRERERKcDQRERERKQAQxMRERGRAgxNRERERAowNBEREREpwNBEREREpABDExEREZECDE1ERERECjA0ERERESnA0ERERESkAEMTERERkQIMTUREREQKMDQRERERKcDQRERERKQAQxMRERGRAgxNRERERAowNBEREREpwNBEREREpABDExEREZECDE1ERERECjA0ERERESnA0ERERESkAEMTERERkQIMTUREREQKMDQRERERKcDQRERERKQAQxMRERGRAgxNRERERAowNBEREREpwNBEREREpABDExEREZECDE1ERERECjA0ERERESnA0ERERESkQJWGpgULFqBVq1awsLCAnZ0d+vbti6tXr8pqhBAICwuDk5MTTExM0KlTJ1y6dElWk52djQkTJsDW1hZmZmbo06cP/vrrL1lNeno6goKCoNFooNFoEBQUhIcPH8pqbt++jYCAAJiZmcHW1hYTJ05ETk5Opaw7ERERvVyqNDQdO3YM48aNw8mTJxETE4O8vDz4+voiKytLqlm0aBGWLVuGVatW4cyZM3BwcED37t3x6NEjqWbSpEnYtWsXIiIicPz4cWRmZsLf3x/5+flSTWBgIBISEhAVFYWoqCgkJCQgKChIGp+fn4/evXsjKysLx48fR0REBHbs2IGpU6f+dzYGERERVWsqIYSo6kYUun//Puzs7HDs2DF06NABQgg4OTlh0qRJmDFjBoB/epXs7e2xcOFCvPfee9BqtahZsyY2b96MQYMGAQDu3r0LZ2dnHDhwAH5+fkhMTESjRo1w8uRJtGnTBgBw8uRJeHt748qVK3B3d8fPP/8Mf39/3LlzB05OTgCAiIgIjBgxAikpKbC0tHxu+zMyMqDRaKDVahXVl4XrR5EVOj+iV82tL3pXdROI6CWl9Pu7Wl3TpNVqAQDW1tYAgJs3byI5ORm+vr5SjVqtRseOHXHixAkAQHx8PHJzc2U1Tk5O8PDwkGri4uKg0WikwAQAbdu2hUajkdV4eHhIgQkA/Pz8kJ2djfj4+GLbm52djYyMDNmLiIiIXk3VJjQJITBlyhS0b98eHh4eAIDk5GQAgL29vazW3t5eGpecnAwjIyNYWVmVWmNnZ6ezTDs7O1lN0eVYWVnByMhIqilqwYIF0jVSGo0Gzs7OZV1tIiIieklUm9A0fvx4nD9/Ht9//73OOJVKJXsvhNAZVlTRmuLqy1PzrNDQUGi1Wul1586dUttEREREL69qEZomTJiAvXv34siRI6hVq5Y03MHBAQB0enpSUlKkXiEHBwfk5OQgPT291Jp79+7pLPf+/fuymqLLSU9PR25urk4PVCG1Wg1LS0vZi4iIiF5NVRqahBAYP348du7cicOHD8PNzU023s3NDQ4ODoiJiZGG5eTk4NixY/Dx8QEAeHl5wdDQUFaTlJSEixcvSjXe3t7QarU4ffq0VHPq1ClotVpZzcWLF5GUlCTVREdHQ61Ww8vLq+JXnoiIiF4qBlW58HHjxmHbtm3Ys2cPLCwspJ4ejUYDExMTqFQqTJo0CfPnz0f9+vVRv359zJ8/H6ampggMDJRqR40ahalTp8LGxgbW1tYICQmBp6cnunXrBgBo2LAhevTogdGjR2PdunUAgDFjxsDf3x/u7u4AAF9fXzRq1AhBQUFYvHgx0tLSEBISgtGjR7MHiYiIiKo2NK1ZswYA0KlTJ9nwjRs3YsSIEQCA6dOn48mTJxg7dizS09PRpk0bREdHw8LCQqpfvnw5DAwMMHDgQDx58gRdu3ZFeHg49PX1pZqtW7di4sSJ0l12ffr0wapVq6Tx+vr6iIyMxNixY9GuXTuYmJggMDAQS5YsqaS1JyIiopdJtXpO08uOz2kiqjp8ThMRlddL+ZwmIiIiouqKoYmIiIhIAYYmIiIiIgUYmoiIiIgUYGgiIiIiUoChiYiIiEgBhiYiIiIiBRiaiIiIiBRgaCIiIiJSgKGJiIiISAGGJiIiIiIFGJqIiIiIFGBoIiIiIlKAoYmIiIhIAYYmIiIiIgUYmoiIiIgUYGgiIiIiUoChiYiIiEgBhiYiIiIiBRiaiIiIiBRgaCIiIiJSgKGJiIiISAGGJiIiIiIFGJqIiIiIFGBoIiIiIlKAoYmIiIhIAYYmIiIiIgUYmoiIiIgUYGgiIiIiUoChiYiIiEgBhiYiIiIiBRiaiIiIiBRgaCIiIiJSgKGJiIiISAGGJiIiIiIFGJqIiIiIFGBoIiIiIlKAoYmIiIhIAYYmIiIiIgUYmoiIiIgUYGgiIiIiUoChiYiIiEgBhiYiIiIiBRiaiIiIiBRgaCIiIiJSgKGJiIiISAGGJiIiIiIFGJqIiIiIFGBoIiIiIlKAoYmIiIhIAYYmIiIiIgUYmoiIiIgUYGgiIiIiUoChiYiIiEgBhiYiIiIiBRiaiIiIiBSo0tD0yy+/ICAgAE5OTlCpVNi9e7ds/IgRI6BSqWSvtm3bymqys7MxYcIE2NrawszMDH369MFff/0lq0lPT0dQUBA0Gg00Gg2CgoLw8OFDWc3t27cREBAAMzMz2NraYuLEicjJyamM1SYiIqKXULlCU506dZCamqoz/OHDh6hTp47i+WRlZaFp06ZYtWpViTU9evRAUlKS9Dpw4IBs/KRJk7Br1y5ERETg+PHjyMzMhL+/P/Lz86WawMBAJCQkICoqClFRUUhISEBQUJA0Pj8/H71790ZWVhaOHz+OiIgI7NixA1OnTlW8LkRERPRqMyjPRLdu3ZKFkkLZ2dn4+++/Fc+nZ8+e6NmzZ6k1arUaDg4OxY7TarX45ptvsHnzZnTr1g0AsGXLFjg7OyM2NhZ+fn5ITExEVFQUTp48iTZt2gAANmzYAG9vb1y9ehXu7u6Ijo7G5cuXcefOHTg5OQEAli5dihEjRmDevHmwtLQsdvnZ2dnIzs6W3mdkZChedyIiInq5lCk07d27V/r3wYMHodFopPf5+fk4dOgQXF1dK6xxAHD06FHY2dmhRo0a6NixI+bNmwc7OzsAQHx8PHJzc+Hr6yvVOzk5wcPDAydOnICfnx/i4uKg0WikwAQAbdu2hUajwYkTJ+Du7o64uDh4eHhIgQkA/Pz8kJ2djfj4eHTu3LnYti1YsABz586t0PUlIiKi6qlMoalv374AAJVKheDgYNk4Q0NDuLq6YunSpRXWuJ49e+Ltt9+Gi4sLbt68iVmzZqFLly6Ij4+HWq1GcnIyjIyMYGVlJZvO3t4eycnJAIDk5GQpZD3Lzs5OVmNvby8bb2VlBSMjI6mmOKGhoZgyZYr0PiMjA87OzuVeXyIiIqq+yhSaCgoKAABubm44c+YMbG1tK6VRhQYNGiT928PDAy1btoSLiwsiIyPRr1+/EqcTQkClUknvn/33i9QUpVaroVarn7seRERE9PIr14XgN2/erPTAVBxHR0e4uLjg2rVrAAAHBwfk5OQgPT1dVpeSkiL1HDk4OODevXs687p//76spmiPUnp6OnJzc3V6oIiIiOh/U7kuBAeAQ4cO4dChQ0hJSZF6oAp9++23L9yw4qSmpuLOnTtwdHQEAHh5ecHQ0BAxMTEYOHAgACApKQkXL17EokWLAADe3t7QarU4ffo0WrduDQA4deoUtFotfHx8pJp58+YhKSlJmnd0dDTUajW8vLwqZV2IiIjo5VKu0DR37lx8+umnaNmyJRwdHUs9hVWazMxMXL9+XXp/8+ZNJCQkwNraGtbW1ggLC0P//v3h6OiIW7du4eOPP4atrS3eeustAIBGo8GoUaMwdepU2NjYwNraGiEhIfD09JTupmvYsCF69OiB0aNHY926dQCAMWPGwN/fH+7u7gAAX19fNGrUCEFBQVi8eDHS0tIQEhKC0aNHl3jnHBEREf1vKVdoWrt2LcLDw2XPOiqPs2fPyu5MK7yoOjg4GGvWrMGFCxfw3Xff4eHDh3B0dETnzp2xfft2WFhYSNMsX74cBgYGGDhwIJ48eYKuXbsiPDwc+vr6Us3WrVsxceJE6S67Pn36yJ4Npa+vj8jISIwdOxbt2rWDiYkJAgMDsWTJkhdaPyIiInp1qIQQoqwT2djY4PTp06hbt25ltOmllZGRAY1GA61WW+E9VK4fRVbo/IheNbe+6F3VTSCil5TS7+9yXQj+7rvvYtu2beVuHBEREdHLplyn554+fYr169cjNjYWTZo0gaGhoWz8smXLKqRxRERERNVFuULT+fPn0axZMwDAxYsXZePKe1E4ERERUXVWrtB05MiRim4HERERUbVWrmuaiIiIiP7XlKunqXPnzqWehjt8+HC5G0RERERUHZUrNBVez1QoNzcXCQkJuHjxos4f8iUiIiJ6FZQrNC1fvrzY4WFhYcjMzHyhBhERERFVRxV6TdOwYcMq7e/OEREREVWlCg1NcXFxMDY2rshZEhEREVUL5To9169fP9l7IQSSkpJw9uxZzJo1q0IaRkRERFSdlCs0aTQa2Xs9PT24u7vj008/lf4oLhEREdGrpFyhaePGjRXdDiIiIqJqrVyhqVB8fDwSExOhUqnQqFEjNG/evKLaRURERFStlCs0paSkYPDgwTh69Chq1KgBIQS0Wi06d+6MiIgI1KxZs6LbSURERFSlynX33IQJE5CRkYFLly4hLS0N6enpuHjxIjIyMjBx4sSKbiMRERFRlStXT1NUVBRiY2PRsGFDaVijRo2wevVqXghOREREr6Ry9TQVFBTA0NBQZ7ihoSEKCgpeuFFERERE1U25QlOXLl3w4Ycf4u7du9Kwv//+G5MnT0bXrl0rrHFERERE1UW5QtOqVavw6NEjuLq6om7duqhXrx7c3Nzw6NEjrFy5sqLbSERERFTlynVNk7OzM37//XfExMTgypUrEEKgUaNG6NatW0W3j4iIiKhaKFNP0+HDh9GoUSNkZGQAALp3744JEyZg4sSJaNWqFRo3boxff/21UhpKREREVJXKFJpWrFiB0aNHw9LSUmecRqPBe++9h2XLllVY44iIiIiqizKFpnPnzqFHjx4ljvf19UV8fPwLN4qIiIiouilTaLp3716xjxooZGBggPv3779wo4iIiIiqmzKFptdeew0XLlwocfz58+fh6Oj4wo0iIiIiqm7KFJp69eqF2bNn4+nTpzrjnjx5gjlz5sDf37/CGkdERERUXZTpkQOffPIJdu7ciQYNGmD8+PFwd3eHSqVCYmIiVq9ejfz8fMycObOy2kpERERUZcoUmuzt7XHixAl88MEHCA0NhRACAKBSqeDn54evvvoK9vb2ldJQIiIioqpU5odburi44MCBA0hPT8f169chhED9+vVhZWVVGe0jIiIiqhbK9URwALCyskKrVq0qsi1ERERE1Va5/vYcERER0f8ahiYiIiIiBRiaiIiIiBRgaCIiIiJSgKGJiIiISAGGJiIiIiIFGJqIiIiIFGBoIiIiIlKAoYmIiIhIAYYmIiIiIgUYmoiIiIgUYGgiIiIiUoChiYiIiEgBg6puABER/X+uH0VWdROIqq1bX/Su0uWzp4mIiIhIAYYmIiIiIgUYmoiIiIgUYGgiIiIiUoChiYiIiEgBhiYiIiIiBRiaiIiIiBRgaCIiIiJSgKGJiIiISAGGJiIiIiIFqjQ0/fLLLwgICICTkxNUKhV2794tGy+EQFhYGJycnGBiYoJOnTrh0qVLsprs7GxMmDABtra2MDMzQ58+ffDXX3/JatLT0xEUFASNRgONRoOgoCA8fPhQVnP79m0EBATAzMwMtra2mDhxInJycipjtYmIiOglVKWhKSsrC02bNsWqVauKHb9o0SIsW7YMq1atwpkzZ+Dg4IDu3bvj0aNHUs2kSZOwa9cuRERE4Pjx48jMzIS/vz/y8/OlmsDAQCQkJCAqKgpRUVFISEhAUFCQND4/Px+9e/dGVlYWjh8/joiICOzYsQNTp06tvJUnIiKil0qV/sHenj17omfPnsWOE0JgxYoVmDlzJvr16wcA2LRpE+zt7bFt2za899570Gq1+Oabb7B582Z069YNALBlyxY4OzsjNjYWfn5+SExMRFRUFE6ePIk2bdoAADZs2ABvb29cvXoV7u7uiI6OxuXLl3Hnzh04OTkBAJYuXYoRI0Zg3rx5sLS0/C9sDSIiIqrOqu01TTdv3kRycjJ8fX2lYWq1Gh07dsSJEycAAPHx8cjNzZXVODk5wcPDQ6qJi4uDRqORAhMAtG3bFhqNRlbj4eEhBSYA8PPzQ3Z2NuLj40tsY3Z2NjIyMmQvIiIiejVV29CUnJwMALC3t5cNt7e3l8YlJyfDyMgIVlZWpdbY2dnpzN/Ozk5WU3Q5VlZWMDIykmqKs2DBAuk6KY1GA2dn5zKuJREREb0sqm1oKqRSqWTvhRA6w4oqWlNcfXlqigoNDYVWq5Ved+7cKbVdRERE9PKqtqHJwcEBAHR6elJSUqReIQcHB+Tk5CA9Pb3Umnv37unM//79+7KaostJT09Hbm6uTg/Us9RqNSwtLWUvIiIiejVV29Dk5uYGBwcHxMTESMNycnJw7Ngx+Pj4AAC8vLxgaGgoq0lKSsLFixelGm9vb2i1Wpw+fVqqOXXqFLRarazm4sWLSEpKkmqio6OhVqvh5eVVqetJREREL4cqvXsuMzMT169fl97fvHkTCQkJsLa2Ru3atTFp0iTMnz8f9evXR/369TF//nyYmpoiMDAQAKDRaDBq1ChMnToVNjY2sLa2RkhICDw9PaW76Ro2bIgePXpg9OjRWLduHQBgzJgx8Pf3h7u7OwDA19cXjRo1QlBQEBYvXoy0tDSEhIRg9OjR7D0iIiIiAFUcms6ePYvOnTtL76dMmQIACA4ORnh4OKZPn44nT55g7NixSE9PR5s2bRAdHQ0LCwtpmuXLl8PAwAADBw7EkydP0LVrV4SHh0NfX1+q2bp1KyZOnCjdZdenTx/Zs6H09fURGRmJsWPHol27djAxMUFgYCCWLFlS2ZuAiIiIXhIqIYSo6ka8KjIyMqDRaKDVaiu8h8r1o8gKnR/Rq+bWF72rugkVgsc6Uckq6zhX+v1dba9pIiIiIqpOGJqIiIiIFGBoIiIiIlKAoYmIiIhIAYYmIiIiIgUYmoiIiIgUYGgiIiIiUoChiYiIiEgBhiYiIiIiBRiaiIiIiBRgaCIiIiJSgKGJiIiISAGGJiIiIiIFGJqIiIiIFGBoIiIiIlKAoYmIiIhIAYYmIiIiIgUYmoiIiIgUYGgiIiIiUoChiYiIiEgBhiYiIiIiBRiaiIiIiBRgaCIiIiJSgKGJiIiISAGGJiIiIiIFGJqIiIiIFGBoIiIiIlKAoYmIiIhIAYYmIiIiIgUYmoiIiIgUYGgiIiIiUoChiYiIiEgBhiYiIiIiBRiaiIiIiBRgaCIiIiJSgKGJiIiISAGGJiIiIiIFGJqIiIiIFGBoIiIiIlKAoYmIiIhIAYYmIiIiIgUYmoiIiIgUYGgiIiIiUoChiYiIiEgBhiYiIiIiBRiaiIiIiBRgaCIiIiJSgKGJiIiISAGGJiIiIiIFGJqIiIiIFGBoIiIiIlKAoYmIiIhIAYYmIiIiIgUYmoiIiIgUYGgiIiIiUoChiYiIiEiBah2awsLCoFKpZC8HBwdpvBACYWFhcHJygomJCTp16oRLly7J5pGdnY0JEybA1tYWZmZm6NOnD/766y9ZTXp6OoKCgqDRaKDRaBAUFISHDx/+N1aRiIiIXhLVOjQBQOPGjZGUlCS9Lly4II1btGgRli1bhlWrVuHMmTNwcHBA9+7d8ejRI6lm0qRJ2LVrFyIiInD8+HFkZmbC398f+fn5Uk1gYCASEhIQFRWFqKgoJCQkICgo6L+6nkRERFS9GVR1A57HwMBA1rtUSAiBFStWYObMmejXrx8AYNOmTbC3t8e2bdvw3nvvQavV4ptvvsHmzZvRrVs3AMCWLVvg7OyM2NhY+Pn5ITExEVFRUTh58iTatGkDANiwYQO8vb1x9epVuLu7//dWloiIiKqtat/TdO3aNTg5OcHNzQ2DBw/Gf/7zHwDAzZs3kZycDF9fX6lWrVajY8eOOHHiBAAgPj4eubm5shonJyd4eHhINXFxcdBoNFJgAoC2bdtCo9FINSXJzs5GRkaG7EVERESvpmodmtq0aYPvvvsOBw8exIYNG5CcnAwfHx+kpqYiOTkZAGBvby+bxt7eXhqXnJwMIyMjWFlZlVpjZ2ens2w7OzuppiQLFiyQroPSaDRwdnYu97oSERFR9VatQ1PPnj3Rv39/eHp6olu3boiMjATwz2m4QiqVSjaNEEJnWFFFa4qrVzKf0NBQaLVa6XXnzp3nrhMRERG9nKp1aCrKzMwMnp6euHbtmnSdU9HeoJSUFKn3ycHBATk5OUhPTy+15t69ezrLun//vk4vVlFqtRqWlpayFxEREb2aXqrQlJ2djcTERDg6OsLNzQ0ODg6IiYmRxufk5ODYsWPw8fEBAHh5ecHQ0FBWk5SUhIsXL0o13t7e0Gq1OH36tFRz6tQpaLVaqYaIiIioWt89FxISgoCAANSuXRspKSn4/PPPkZGRgeDgYKhUKkyaNAnz589H/fr1Ub9+fcyfPx+mpqYIDAwEAGg0GowaNQpTp06FjY0NrK2tERISIp3uA4CGDRuiR48eGD16NNatWwcAGDNmDPz9/XnnHBEREUmqdWj666+/MGTIEDx48AA1a9ZE27ZtcfLkSbi4uAAApk+fjidPnmDs2LFIT09HmzZtEB0dDQsLC2key5cvh4GBAQYOHIgnT56ga9euCA8Ph76+vlSzdetWTJw4UbrLrk+fPli1atV/d2WJiIioWlMJIURVN+JVkZGRAY1GA61WW+HXN7l+FFmh8yN61dz6ondVN6FC8FgnKlllHedKv79fqmuaiIiIiKoKQxMRERGRAgxNRERERAowNBEREREpwNBEREREpABDExEREZECDE1ERERECjA0ERERESnA0ERERESkAEMTERERkQIMTUREREQKMDQRERERKcDQRERERKQAQxMRERGRAgxNRERERAowNBEREREpwNBEREREpABDExEREZECDE1ERERECjA0ERERESnA0ERERESkAEMTERERkQIMTUREREQKMDQRERERKcDQRERERKQAQxMRERGRAgxNRERERAowNBEREREpwNBEREREpABDExEREZECDE1ERERECjA0ERERESnA0ERERESkAEMTERERkQIMTUREREQKMDQRERERKcDQRERERKQAQxMRERGRAgxNRERERAowNBEREREpwNBEREREpABDExEREZECDE1ERERECjA0ERERESnA0ERERESkAEMTERERkQIMTUREREQKMDQRERERKcDQRERERKQAQxMRERGRAgxNRERERAowNBEREREpwNBEREREpABDExEREZECDE1ERERECjA0FfHVV1/Bzc0NxsbG8PLywq+//lrVTSIiIqJqgKHpGdu3b8ekSZMwc+ZM/PHHH3jjjTfQs2dP3L59u6qbRkRERFWMoekZy5Ytw6hRo/Duu++iYcOGWLFiBZydnbFmzZqqbhoRERFVMYOqbkB1kZOTg/j4eHz00Uey4b6+vjhx4kSx02RnZyM7O1t6r9VqAQAZGRkV3r6C7McVPk+iV0llHHdVgcc6Uckq6zgvnK8QotQ6hqb/8+DBA+Tn58Pe3l423N7eHsnJycVOs2DBAsydO1dnuLOzc6W0kYhKpllR1S0gospW2cf5o0ePoNFoShzP0FSESqWSvRdC6AwrFBoaiilTpkjvCwoKkJaWBhsbmxKnoZdfRkYGnJ2dcefOHVhaWlZ1c4iokvBY/98hhMCjR4/g5ORUah1D0/+xtbWFvr6+Tq9SSkqKTu9TIbVaDbVaLRtWo0aNymoiVTOWlpb8ICX6H8Bj/X9DaT1MhXgh+P8xMjKCl5cXYmJiZMNjYmLg4+NTRa0iIiKi6oI9Tc+YMmUKgoKC0LJlS3h7e2P9+vW4ffs23n///apuGhEREVUxhqZnDBo0CKmpqfj000+RlJQEDw8PHDhwAC4uLlXdNKpG1Go15syZo3NqloheLTzWqSiVeN79dURERETEa5qIiIiIlGBoIiIiIlKAoYmIiIhIAYYmIiIiIgUYmoj+T1hYGJo1a1bVzSD6nzJixAj07du3qpvxyuDnWOViaKJKVR0+EMPDw6FSqUp9HT16tErb6OrqCpVKhYiICJ1xjRs3hkqlQnh4+H+/YVSpkpOT8eGHH6JevXowNjaGvb092rdvj7Vr1+Lx48r/w73h4eGV9lcMwsLCnnvc3bp1q1KW/d9W0meMsbFxVTdNx9GjR6FSqfDw4cMXnlenTp2gUqnwxRdf6Izr1asXVCoVwsLCXng51QlDE73yBg0ahKSkJOnl7e2N0aNHy4ZVh6e+Ozs7Y+PGjbJhJ0+eRHJyMszMzKqoVVRZ/vOf/6B58+aIjo7G/Pnz8ccffyA2NhaTJ0/Gvn37EBsbW+K0ubm5/8WWPl9+fj4KCgpkw0JCQmTHWK1ataRn4BW+XrY/bp6Tk1PiOEtLS9m6JSUl4c8///wvtq5qFPe5dffuXRw+fBiOjo5V1KrKw9BEVery5cvo1asXzM3NYW9vj6CgIDx48EAa/9NPP8HT0xMmJiawsbFBt27dkJWVBeCfX0ytW7eGmZkZatSogXbt2hX7IWViYgIHBwfpZWRkBFNTU51hhTZv3gxXV1doNBoMHjwYjx49ksZFRUWhffv2qFGjBmxsbODv748bN25I42/dugWVSoWdO3eic+fOMDU1RdOmTREXF/fcbTF06FAcO3YMd+7ckYZ9++23GDp0KAwM5M+h1Wq1GDNmDOzs7GBpaYkuXbrg3Llz0vgbN27gzTffhL29PczNzdGqVSudL2FXV1fMnz8fI0eOhIWFBWrXro3169c/t51UMcaOHQsDAwOcPXsWAwcORMOGDeHp6Yn+/fsjMjISAQEBUq1KpcLatWvx5ptvwszMDJ9//jkAYN++ffDy8oKxsTHq1KmDuXPnIi8vT5pu2bJl8PT0hJmZGZydnTF27FhkZmYC+Of4eeedd6DVaqWekcJegZycHEyfPh2vvfYazMzM0KZNG1lvbGEP1f79+9GoUSOo1WqdY8/c3Fx2jOnr68PCwkJnWKElS5bA0dERNjY2GDdunCwYbtmyBS1btpSmDwwMREpKijS+sPfk0KFDaNmyJUxNTeHj44OrV6+W+n9w4cIFdOnSRfp8GTNmjLR9gP/fU75gwQI4OTmhQYMGJc5LpVLJ1s3BwUH2d0uzsrIwfPhwmJubw9HREUuXLkWnTp0wadIk2Tx2794tm2+NGjVkvcwzZsxAgwYNYGpqijp16mDWrFmKQ/StW7fQuXNnAICVlRVUKhVGjBgBAMjOzsbEiRNhZ2cHY2NjtG/fHmfOnHnuPP39/ZGamorffvtNGhYeHg5fX1/Y2dnJap+3X6WmpmLIkCGoVasWTE1N4enpie+//142j06dOmHixImYPn06rK2t4eDg8F/tzWJooiqTlJSEjh07olmzZjh79iyioqJw7949DBw4UBo/ZMgQjBw5EomJiTh69Cj69esHIQTy8vLQt29fdOzYEefPn0dcXBzGjBkDlUr1Qm26ceMGdu/ejf3792P//v04duyYrOs5KysLU6ZMwZkzZ3Do0CHo6enhrbfe0vmVPXPmTISEhCAhIQENGjTAkCFDZF9mxbG3t4efnx82bdoEAHj8+DG2b9+OkSNHyuqEEOjduzeSk5Nx4MABxMfHo0WLFujatSvS0tIAAJmZmejVqxdiY2Pxxx9/wM/PDwEBAbh9+7ZsXkuXLkXLli3xxx9/YOzYsfjggw9w5cqVcm8/UiY1NRXR0dEYN25cib2IRfflOXPm4M0338SFCxcwcuRIHDx4EMOGDcPEiRNx+fJlrFu3DuHh4Zg3b540jZ6eHv71r3/h4sWL2LRpEw4fPozp06cDAHx8fLBixQpZD0lISAgA4J133sFvv/2GiIgInD9/Hm+//TZ69OiBa9euSfN+/PgxFixYgK+//hqXLl3S+YIsiyNHjuDGjRs4cuQINm3ahPDwcFlQyMnJwWeffYZz585h9+7duHnzpvRl/6yZM2di6dKlOHv2LAwMDHSOnWc9fvwYPXr0gJWVFc6cOYMff/wRsbGxGD9+vKzu0KFDSExMRExMDPbv31/udZw2bRqOHDmCXbt2ITo6GkePHkV8fHyZ52NhYYHw8HBcvnwZX375JTZs2IDly5crmtbZ2Rk7duwAAFy9ehVJSUn48ssvAQDTp0/Hjh07sGnTJvz++++oV68e/Pz8pM+UkhgZGWHo0KGy3qbw8PBit/3z9qunT5/Cy8sL+/fvx8WLFzFmzBgEBQXh1KlTsvls2rQJZmZmOHXqFBYtWoRPP/1U5+/GVhpBVImCg4PFm2++Wey4WbNmCV9fX9mwO3fuCADi6tWrIj4+XgAQt27d0pk2NTVVABBHjx4tc5s6duwoPvzwQ53hc+bMEaampiIjI0MaNm3aNNGmTZsS55WSkiIAiAsXLgghhLh586YAIL7++mup5tKlSwKASExMLHE+Li4uYvny5WL37t2ibt26oqCgQGzatEk0b95cCCGERqMRGzduFEIIcejQIWFpaSmePn0qm0fdunXFunXrSlxGo0aNxMqVK2XLHDZsmPS+oKBA2NnZiTVr1pQ4D6oYJ0+eFADEzp07ZcNtbGyEmZmZMDMzE9OnT5eGAxCTJk2S1b7xxhti/vz5smGbN28Wjo6OJS73hx9+EDY2NtL7jRs3Co1GI6u5fv26UKlU4u+//5YN79q1qwgNDZWmAyASEhKev7L/p3AfLyo4OFi4uLiIvLw8adjbb78tBg0aVOK8Tp8+LQCIR48eCSGEOHLkiAAgYmNjpZrIyEgBQDx58qTYeaxfv15YWVmJzMxM2TR6enoiOTlZapu9vb3Izs4udd0Kt0fh/13hq3v37kIIIR49eiSMjIxERESENE1qaqowMTGRfRYBELt27ZLN+9ljvziLFi0SXl5e0vs5c+aIpk2bllhfuK3S09OlYZmZmcLQ0FBs3bpVGpaTkyOcnJzEokWLSpxX4WfpuXPnhIWFhcjMzBTHjh0TdnZ2IicnRzRt2lTMmTNHCKFsvypOr169xNSpU2XLbN++vaymVatWYsaMGSXOoyLxb89RlYmPj8eRI0dgbm6uM+7GjRvw9fVF165d4enpCT8/P/j6+mLAgAGwsrKCtbU1RowYAT8/P3Tv3h3dunXDwIEDX/gcuqurKywsLKT3jo6OstMAN27cwKxZs3Dy5Ek8ePBA6mG6ffs2PDw8pLomTZrI5gEAKSkpeP3110tdfu/evfHee+/hl19+wbffflvsr7X4+HhkZmbCxsZGNvzJkyfSqcKsrCzMnTsX+/fvx927d5GXl4cnT57o9DQ9287C0wvPri9VrqK9SadPn0ZBQQGGDh2K7Oxs2biWLVvK3sfHx+PMmTOynqX8/Hw8ffoUjx8/hqmpKY4cOYL58+fj8uXLyMjIQF5eHp4+fYqsrKwSe7h+//13CCF0TkVlZ2fL9jkjIyPZ/vMiGjduLDtV5+joiAsXLkjv//jjD4SFhSEhIQFpaWmy465Ro0ZSXUnHXe3atXWWmZiYiKZNm8q2Q7t27VBQUICrV69Kp9Y8PT1lp+9LYmFhgd9//102zMTEBMA/nxs5OTnw9vaWxllbW8Pd3f258y3qp59+wooVK3D9+nVkZmYiLy8PlpaWZZ7Ps27cuIHc3Fy0a9dOGmZoaIjWrVsjMTHxudM3adIE9evXx08//YQjR44gKCgIhoaGshol+1V+fj6++OILbN++HX///Teys7ORnZ2ts68W3e+Kfk5XJoYmqjIFBQUICAjAwoULdcY5OjpCX18fMTExOHHiBKKjo7Fy5UrMnDkTp06dgpubGzZu3IiJEyciKioK27dvxyeffIKYmBi0bdu23G0qeqCrVCrZqbeAgAA4Oztjw4YNcHJyQkFBATw8PHQuEH12PoVfjEVP4RXHwMAAQUFBmDNnDk6dOoVdu3bp1BQUFMDR0bHYO/4K74SaNm0aDh48iCVLlqBevXowMTHBgAEDSm1ncetLlaNevXpQqVQ6p0Lr1KkD4P9/2T6r6BdHQUEB5s6di379+unUGhsb488//0SvXr3w/vvv47PPPoO1tTWOHz+OUaNGlXoNTEFBAfT19REfHy8LMgBkP3BMTExe+HR4odL2w6ysLPj6+sLX1xdbtmxBzZo1cfv2bfj5+b3QcSeEKLH9zw5XehOGnp4e6tWrV+KylFCpVDq1z/5fnTx5EoMHD8bcuXPh5+cHjUaDiIgILF26VNH8S1K4zKLbo7RtVNTIkSOxevVqXL58GadPn9YZr2S/Wrp0KZYvX44VK1ZI1+JNmjSpWn1uMTRRlWnRogV27NgBV1dXnQudC6lUKrRr1w7t2rXD7Nmz4eLigl27dmHKlCkAgObNm6N58+YIDQ2Ft7c3tm3b9kKhqTSpqalITEzEunXr8MYbbwAAjh8/XuHLGTlyJJYsWYJBgwbByspKZ3yLFi2QnJwMAwMDuLq6FjuPX3/9FSNGjMBbb70F4J9rnF6V27tfBTY2NujevTtWrVqFCRMmlOvuyBYtWuDq1aslflGfPXsWeXl5WLp0KfT0/rl89YcffpDVGBkZIT8/XzasefPmyM/PR0pKirSfV6UrV67gwYMH+OKLL6S77c6ePfvC823UqBE2bdok63X77bffoKenV+oF3+VRr149GBoa4uTJk1KvV3p6Ov7973+jY8eOUl3NmjWRlJQkvb927Zrs0RO//fYbXFxcMHPmTGlYWe/QK+w1e/b/vV69ejAyMsLx48cRGBgI4J+wdvbsWdmF6qUJDAxESEgImjZtKuv9K6Rkv/r111/x5ptvYtiwYQD+CVrXrl1Dw4YNy7KKlYqhiSqdVqtFQkKCbJi1tTXGjRuHDRs2YMiQIZg2bRpsbW1x/fp1REREYMOGDTh79iwOHTok3YVx6tQp3L9/Hw0bNsTNmzexfv169OnTB05OTrh69Sr+/e9/Y/jw4ZW2HlZWVrCxscH69evh6OiI27dv46OPPqrw5TRs2BAPHjyAqalpseO7desGb29v9O3bFwsXLoS7uzvu3r2LAwcOoG/fvmjZsiXq1auHnTt3IiAgACqVCrNmzWIPUjXz1VdfoV27dmjZsiXCwsLQpEkT6Onp4cyZM7hy5Qq8vLxKnX727Nnw9/eHs7Mz3n77bejp6eH8+fO4cOECPv/8c9StWxd5eXlYuXIlAgIC8Ntvv2Ht2rWyebi6uiIzMxOHDh1C06ZNYWpqigYNGmDo0KEYPnw4li5diubNm+PBgwc4fPgwPD090atXr8rcLDpq164NIyMjrFy5Eu+//z4uXryIzz777IXnO3ToUMyZMwfBwcEICwvD/fv3MWHCBAQFBcnuelNKCIHk5GSd4XZ2djA3N8eoUaMwbdo02NjYwN7eHjNnzpTCbKEuXbpg1apVaNu2LQoKCjBjxgxZr0q9evVw+/ZtREREoFWrVoiMjCy2N7o0Li4uUKlU2L9/P3r16gUTExOYm5vjgw8+wLRp02BtbY3atWtj0aJFePz4MUaNGqVovlZWVkhKStLpBSqkZL+qV68eduzYgRMnTsDKygrLli1DcnJytQpNvHuOKt3Ro0elHqHC1+zZs+Hk5ITffvsN+fn58PPzg4eHBz788ENoNBro6enB0tISv/zyC3r16oUGDRrgk08+wdKlS9GzZ0+YmpriypUr6N+/Pxo0aIAxY8Zg/PjxeO+99yptPfT09BAREYH4+Hh4eHhg8uTJWLx4caUsy8bGpthTNMA/vW8HDhxAhw4dMHLkSDRo0ACDBw/GrVu3pA/75cuXw8rKCj4+PggICICfnx9atGhRKW2l8qlbty7++OMPdOvWDaGhoWjatClatmyJlStXIiQk5LnBwM/PD/v370dMTAxatWqFtm3bYtmyZXBxcQEANGvWDMuWLcPChQvh4eGBrVu3YsGCBbJ5+Pj44P3338egQYNQs2ZNLFq0CACwceNGDB8+HFOnToW7uzv69OmDU6dOVclzlWrWrInw8HD8+OOPaNSoEb744gssWbLkhedramqKgwcPIi0tDa1atcKAAQPQtWtXrFq1qlzzy8jIgKOjo86r8FqbxYsXo0OHDujTpw+6deuG9u3b6wTjpUuXwtnZGR06dJB6bp798fTmm29i8uTJGD9+PJo1a4YTJ05g1qxZZWrna6+9hrlz5+Kjjz6Cvb29dLfgF198gf79+yMoKAgtWrTA9evXcfDgwWJ7u0tSo0aNUntNn7dfzZo1Cy1atICfnx86deoEBweHKn84clEqofRkKxEREVWYTp06oVmzZlixYkVVN4UUYk8TERERkQIMTUREREQK8PQcERERkQLsaSIiIiJSgKGJiIiISAGGJiIiIiIFGJqIiIiIFGBoIiIiIlKAoYmIiIhIAYYmIiIiIgUYmoiIiIgU+H+MnJZPKaRp9wAAAABJRU5ErkJggg==",
      "text/plain": [
       "<Figure size 640x480 with 1 Axes>"
      ]
     },
     "metadata": {},
     "output_type": "display_data"
    },
    {
     "data": {
      "image/png": "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",
      "text/plain": [
       "<Figure size 640x480 with 1 Axes>"
      ]
     },
     "metadata": {},
     "output_type": "display_data"
    }
   ],
   "source": [
    "# find the number of videos that are less than mean and greater than or equal to mean\n",
    "less_than_mean = df[df['caps_percent'] < caps_percent_mean]\n",
    "greater_equal_mean = df[df['caps_percent'] >= caps_percent_mean]\n",
    "\n",
    "# count the number of unique 'title' videos\n",
    "count_less_than_mean = len(less_than_mean['title'].unique())\n",
    "count_greater_equal_mean = len(greater_equal_mean['title'].unique())\n",
    "\n",
    "# calculate the average view counts\n",
    "avg_view_count_lt = less_than_mean['view_count'].mean()\n",
    "avg_view_count_gt = greater_equal_mean['view_count'].mean()\n",
    "\n",
    "# plot counts of videos\n",
    "labels= ['Less Than Mean', 'Greater Than or Equal to Mean']\n",
    "counts = [count_less_than_mean, count_greater_equal_mean]\n",
    "\n",
    "plt.bar(labels, counts)\n",
    "plt.title('Counts of Videos Grouped Relative to Caps Percent Mean')\n",
    "plt.ylabel('Count')\n",
    "plt.show()\n",
    "\n",
    "# plot average view count relative to mean\n",
    "avg_view_counts = [avg_view_count_lt, avg_view_count_gt]\n",
    "\n",
    "plt.bar(labels, avg_view_counts)\n",
    "plt.title('Average View Count Grouped Relative to Caps Percent Mean')\n",
    "plt.ylabel('Count')\n",
    "plt.show()"
   ]
  },
  {
   "attachments": {},
   "cell_type": "markdown",
   "metadata": {},
   "source": [
    "Given these graphs, we can see that the number of videos with less caps percent are more common than those with higher percentage of caps in their titles. However, looking at the first graph above, the view count tends to be higher as the caps percent increased, and this is also corroborated by calculating the average view count of the two groups, which is shown in the third graph. Because the view count is higher for those videos with a higher percentage of caps in their title, this means that these videos will get more clicks from people browsing YouTube."
   ]
  },
  {
   "attachments": {},
   "cell_type": "markdown",
   "metadata": {},
   "source": [
    "# Ethics & Privacy"
   ]
  },
  {
   "attachments": {},
   "cell_type": "markdown",
   "metadata": {},
   "source": [
    "Ethical concerns:\n",
    "- Collecting data from YouTube users might raise privacy concerns, especially if personal information is involved. To avoid this, we can anonymize the data by removing any information that can be used to identify any users so that we can protect users' privacy.\n",
    "- Our dataset might not accurately represent reality due to demographic bias inherent in different social media platforms' user bases. This could skew results unfairly by under or over representing certain age groups, ethnicities or genders. Collecting representative data from various sources across diverse populations can mitigate these risks while providing greater insights into reality than relying solely on one group type of population.\n",
    "- Algorithms used in data processing inherently run the risk of inducing unintentional bias towards specific groups based on pre existing models that might have their own biases and sampling errors within them. Transparency in our algorithm choice prevents negative outcomes due to potential sampling errors caused by biased algorithms.\n",
    "- Human interpretation risks introducing bias into our results, which could lead to unfair findings. To counter this we'll encourage open discussions within the team and invite external feedback. Transparency ensures that all voices are heard while identifying any biases early enough to adjust appropriately.\n"
   ]
  },
  {
   "attachments": {},
   "cell_type": "markdown",
   "metadata": {},
   "source": [
    "# Conclusion & Discussion"
   ]
  },
  {
   "attachments": {},
   "cell_type": "markdown",
   "metadata": {},
   "source": [
    "Based on the findings provided, we can draw the following conclusions regarding the connection between user engagement data and clickbaits in YouTube video titles:\n",
    "- Total engagement, which includes metrics like view count, is strongly correlated with view count, indicating that videos with higher view counts tend to generate more overall engagement. This suggests that clickbait titles may play a role in attracting viewers and increasing engagement.\n",
    "- Likes exhibit a strong positive correlation with both view count and total engagement. This suggests that videos with higher view counts or overall engagement tend to receive more likes. It implies that clickbait titles may be successful in capturing viewers' attention and generating positive feedback.\n",
    "\nFurthermore, the analysis of caps percentage in video titles reveals interesting insights. While videos with lower caps percentages are more common, the view count tends to be higher for videos with a higher percentage of caps in their titles. This indicates that videos employing clickbait techniques, such as using all caps in titles, may have a higher likelihood of attracting clicks from users browsing the YouTube platform.\n",
    "\nAs for limitations, it is important to note that this engagement is not uniformly positive, as videos with higher view counts also tend to receive more dislikes and comments. The specific video category appears to have limited influence on these engagement patterns.\n",
    "\nIn conclusion, the findings from our research suggest that clickbait titles have a connection with user engagement on YouTube. Videos with clickbait titles tend to generate higher view counts, more likes, and potentially more engagement overall. Our findings support the relationship between clickbait titles and user engagement metrics on YouTube, highlighting the impact and potential effectiveness of clickbait as a strategy for attracting viewers.\n"
   ]
  },
  {
   "attachments": {},
   "cell_type": "markdown",
   "metadata": {},
   "source": [
    "# Team Contributions"
   ]
  },
  {
   "attachments": {},
   "cell_type": "markdown",
   "metadata": {},
   "source": [
    "Gabriel Leong: Did data cleaning and caps percent section of the EDA\n",
    "\nDong Bin Lee: Edited Introduction, found a related research article, wrote conclusion, wrote overview and edited video\n",
    "\nChia Long Lin: Did hypothesis, data and ethic part, correlation EDA data analysis\n",
    "\nIngrid Chu: Rewrote first draft of Research Question, Background and Prior Work, Hypothesis, Data and Ethics & Privacy to fit new Research Question."
   ]
  }
 ],
 "metadata": {
  "kernelspec": {
   "display_name": "Python 3",
   "language": "python",
   "name": "python3"
  },
  "language_info": {
   "codemirror_mode": {
    "name": "ipython",
    "version": 3
   },
   "file_extension": ".py",
   "mimetype": "text/x-python",
   "name": "python",
   "nbconvert_exporter": "python",
   "pygments_lexer": "ipython3",
   "version": "3.10.10"
  }
 },
 "nbformat": 4,
 "nbformat_minor": 2
}
